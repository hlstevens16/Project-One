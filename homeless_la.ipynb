{
 "cells": [
  {
   "cell_type": "code",
   "execution_count": null,
   "metadata": {},
   "outputs": [],
   "source": [
    "%matplotlib notebook"
   ]
  },
  {
   "cell_type": "code",
   "execution_count": 4,
   "metadata": {},
   "outputs": [],
   "source": [
    "import numpy as np\n",
    "import matplotlib.pyplot as plt\n",
    "import pandas as pd\n",
    "import os\n",
    "import scipy.stats as st"
   ]
  },
  {
   "cell_type": "code",
   "execution_count": 6,
   "metadata": {},
   "outputs": [],
   "source": [
    "homeless_2017 = pd.read_csv('Data/LA Data/homeless_la_2017.csv')\n",
    "homeless_2017\n",
    "\n",
    "homeless_2018 = pd.read_csv('Data/LA Data/homeless_la_2018.csv')\n",
    "# # # # homeless_2018\n",
    "# \n",
    "homeless_2019 = pd.read_csv('Data/LA Data/homeless_la_2019.csv')\n",
    "# # homeless_2019\n",
    "\n",
    "# # homeless_2019.info()"
   ]
  },
  {
   "cell_type": "code",
   "execution_count": 7,
   "metadata": {},
   "outputs": [],
   "source": [
    "total_2017 = homeless_2017[\"total_homeless\"].sum()\n",
    "# total_2017\n",
    "\n",
    "sud_2017 = homeless_2017[\"SUD\"].sum()\n",
    "# sud_2017\n",
    "\n",
    "sud_perc_2017 = sud_2017 / total_2017*100\n",
    "# sud_perc_2017\n",
    "\n",
    "chronic_2017 = homeless_2017[\"Chronic_HL\"].sum()\n",
    "# chronic_2017\n",
    "\n",
    "chronic_perc_2017 = chronic_2017 / total_2017*100\n",
    "# chronic_perc_2017\n",
    "\n",
    "mental_2017 = homeless_2017[\"Serious Mental Illness\"].sum()\n",
    "# mental_2017\n",
    "\n",
    "mental_perc_2017 = mental_2017 / total_2017*100\n",
    "# mental_perc_2017\n",
    "\n",
    "dv_2017 = homeless_2017[\"DV_Exp\"].sum()\n",
    "# dv_2017\n",
    "\n",
    "dv_perc_2017 = dv_2017 / total_2017*100\n",
    "# dv_perc_2017"
   ]
  },
  {
   "cell_type": "code",
   "execution_count": 8,
   "metadata": {},
   "outputs": [],
   "source": [
    "unsheltered_2017 = homeless_2017.loc[homeless_2017[\"Shelter Status\"] == \"Unsheltered\"]\n",
    "# unsheltered_2017.head()\n",
    "\n",
    "unsheltered_2018 = homeless_2018.loc[homeless_2018[\"Shelter Status\"] == \"Unsheltered\"]\n",
    "# unsheltered_2018.head()\n",
    "\n",
    "unsheltered_2019 = homeless_2019.loc[homeless_2019[\"Shelter Status\"] == \"Unsheltered\"]\n",
    "# unsheltered_2019.head()\n",
    "\n",
    "\n",
    "sheltered_2017 = homeless_2017.loc[homeless_2017[\"Shelter Status\"] == \"Sheltered\"]\n",
    "# sheltered_2017.head()\n",
    "\n",
    "sheltered_2018 = homeless_2018.loc[homeless_2018[\"Shelter Status\"] == \"Sheltered\"]\n",
    "# sheltered_2018.head()\n",
    "\n",
    "sheltered_2019 = homeless_2019.loc[homeless_2019[\"Shelter Status\"] == \"Sheltered\"]\n",
    "# sheltered_2019.head()\n",
    "\n",
    "# # # sheltered_2017.info()"
   ]
  },
  {
   "cell_type": "code",
   "execution_count": 9,
   "metadata": {},
   "outputs": [
    {
     "data": {
      "text/plain": [
       "37.400571874187676"
      ]
     },
     "execution_count": 9,
     "metadata": {},
     "output_type": "execute_result"
    }
   ],
   "source": [
    "uns_total_2017 = unsheltered_2017[\"total_homeless\"].sum()\n",
    "# uns_total_2017\n",
    "\n",
    "uns_total_perc_2017 = uns_total_2017 / total_2017*100\n",
    "uns_total_perc_2017\n",
    "\n",
    "uns_sud_2017 = unsheltered_2017[\"SUD\"].sum()\n",
    "# uns_sud_2017\n",
    "\n",
    "uns_sud_perc_2017 = uns_sud_2017 / uns_total_2017*100\n",
    "# uns_sud_perc_2017\n",
    "\n",
    "uns_chronic_2017 = unsheltered_2017[\"Chronic_HL\"].sum()\n",
    "# uns_chronic_2017\n",
    "\n",
    "uns_chronic_perc_2017 = uns_chronic_2017 / uns_total_2017*100\n",
    "# uns_chronic_perc_2017\n",
    "\n",
    "uns_mental_2017 = unsheltered_2017[\"Serious Mental Illness\"].sum()\n",
    "# uns_mental_2017\n",
    "\n",
    "uns_mental_perc_2017 = uns_mental_2017 / uns_total_2017*100\n",
    "# uns_mental_perc_2017\n",
    "\n",
    "uns_dv_2017 = unsheltered_2017[\"DV_Exp\"].sum()\n",
    "# uns_dv_2017\n",
    "\n",
    "uns_dv_perc_2017 = uns_dv_2017 / uns_total_2017*100\n",
    "uns_dv_perc_2017"
   ]
  },
  {
   "cell_type": "code",
   "execution_count": 10,
   "metadata": {},
   "outputs": [],
   "source": [
    "sh_total_2017 = sheltered_2017[\"total_homeless\"].sum()\n",
    "# sh_total_2017\n",
    "\n",
    "sh_total_perc_2017 = sh_total_2017 / total_2017*100\n",
    "# sh_total_perc_2017\n",
    "\n",
    "sh_sud_2017 = sheltered_2017[\"SUD\"].sum()\n",
    "# sh_sud_2017\n",
    "\n",
    "sh_sud_perc_2017 = sh_sud_2017 / sh_total_2017*100\n",
    "# sh_sud_perc_2017\n",
    "\n",
    "sh_chronic_2017 = sheltered_2017[\"Chronic_HL\"].sum()\n",
    "# sh_chronic_2017\n",
    "\n",
    "sh_chronic_perc_2017 = sh_chronic_2017 / sh_total_2017*100\n",
    "# sh_chronic_perc_2017\n",
    "\n",
    "sh_mental_2017 = sheltered_2017[\"Serious Mental Illness\"].sum()\n",
    "# sh_mental_2017\n",
    "\n",
    "sh_mental_perc_2017 = sh_mental_2017 / sh_total_2017*100\n",
    "# sh_mental_perc_2017\n",
    "\n",
    "sh_dv_2017 = sheltered_2017[\"DV_Exp\"].sum()\n",
    "# sh_dv_2017\n",
    "\n",
    "sh_dv_perc_2017 = sh_dv_2017 / sh_total_2017*100\n",
    "# sh_dv_perc_2017"
   ]
  },
  {
   "cell_type": "code",
   "execution_count": 11,
   "metadata": {},
   "outputs": [],
   "source": [
    "total_2018 = homeless_2018[\"total_homeless\"].sum()\n",
    "# total_2018\n",
    "\n",
    "sud_2018 = homeless_2018[\"SUD\"].sum()\n",
    "# sud_2018\n",
    "\n",
    "sud_perc_2018 = sud_2018 / total_2018*100\n",
    "# sud_perc_2018\n",
    "\n",
    "chronic_2018 = homeless_2018[\"Chronic_HL\"].sum()\n",
    "# # chronic_2018\n",
    "\n",
    "chronic_perc_2018 = chronic_2018 / total_2018*100\n",
    "# chronic_perc_2018\n",
    "\n",
    "mental_2018 = homeless_2018[\"Serious Mental Illness\"].sum()\n",
    "# mental_2017\n",
    "\n",
    "mental_perc_2018 = mental_2018 / total_2018*100\n",
    "# mental_perc_2017\n",
    "\n",
    "dv_2018 = homeless_2018[\"DV_Exp\"].sum()\n",
    "# dv_2018\n",
    "\n",
    "dv_perc_2018 = dv_2018 / total_2018*100\n",
    "# dv_perc_2018"
   ]
  },
  {
   "cell_type": "code",
   "execution_count": 12,
   "metadata": {},
   "outputs": [
    {
     "data": {
      "text/plain": [
       "31.37875964865584"
      ]
     },
     "execution_count": 12,
     "metadata": {},
     "output_type": "execute_result"
    }
   ],
   "source": [
    "uns_total_2018 = unsheltered_2018[\"total_homeless\"].sum()\n",
    "# uns_total_2018\n",
    "\n",
    "uns_total_perc_2018 = uns_total_2018 / total_2018*100\n",
    "# uns_total_perc_2018\n",
    "\n",
    "uns_sud_2018 = unsheltered_2018[\"SUD\"].sum()\n",
    "uns_sud_2018\n",
    "\n",
    "uns_sud_perc_2018 = uns_sud_2018 / uns_total_2018*100\n",
    "# uns_sud_perc_2018\n",
    "\n",
    "uns_chronic_2018 = unsheltered_2018[\"Chronic_HL\"].sum()\n",
    "# uns_chronic_2018\n",
    "\n",
    "uns_chronic_perc_2018 = uns_chronic_2018 / uns_total_2018*100\n",
    "# uns_chronic_perc_2018\n",
    "\n",
    "uns_mental_2018 = unsheltered_2018[\"Serious Mental Illness\"].sum()\n",
    "# uns_mental_2018\n",
    "\n",
    "uns_mental_perc_2018 = uns_mental_2018 / uns_total_2018*100\n",
    "# uns_mental_perc_2018\n",
    "\n",
    "uns_dv_2018 = unsheltered_2018[\"DV_Exp\"].sum()\n",
    "# uns_dv_2018\n",
    "\n",
    "uns_dv_perc_2018 = uns_dv_2018 / uns_total_2018*100\n",
    "# uns_dv_perc_2018"
   ]
  },
  {
   "cell_type": "code",
   "execution_count": 13,
   "metadata": {},
   "outputs": [],
   "source": [
    "sh_total_2018 = sheltered_2018[\"total_homeless\"].sum()\n",
    "# sh_total_2018\n",
    "\n",
    "sh_total_perc_2018 = sh_total_2018 / total_2018*100\n",
    "# sh_total_perc_2018\n",
    "\n",
    "sh_sud_2018 = sheltered_2018[\"SUD\"].sum()\n",
    "# sh_sud_2018\n",
    "\n",
    "sh_sud_perc_2018 = sh_sud_2018 / sh_total_2018*100\n",
    "# sh_sud_perc_2018\n",
    "\n",
    "sh_chronic_2018 = sheltered_2018[\"Chronic_HL\"].sum()\n",
    "# sh_chronic_2018\n",
    "\n",
    "sh_chronic_perc_2018 = sh_chronic_2018 / sh_total_2018*100\n",
    "# sh_chronic_perc_2018\n",
    "\n",
    "sh_mental_2018 = sheltered_2018[\"Serious Mental Illness\"].sum()\n",
    "# sh_mental_2018\n",
    "\n",
    "sh_mental_perc_2018 = sh_mental_2018 / sh_total_2018*100\n",
    "# sh_mental_perc_2018\n",
    "\n",
    "sh_dv_2018 = sheltered_2018[\"DV_Exp\"].sum()\n",
    "# sh_dv_2018\n",
    "\n",
    "sh_dv_perc_2018 = sh_dv_2018 / sh_total_2018*100\n",
    "# sh_dv_perc_2018"
   ]
  },
  {
   "cell_type": "code",
   "execution_count": 14,
   "metadata": {},
   "outputs": [],
   "source": [
    "total_2019 = homeless_2019[\"total_homeless\"].sum()\n",
    "# total_2019\n",
    "\n",
    "sud_2019 = homeless_2019[\"SUD\"].sum()\n",
    "# sud_2019\n",
    "\n",
    "sud_perc_2019 = sud_2019 / total_2019*100\n",
    "# # sud_perc_2019\n",
    "\n",
    "chronic_2019 = homeless_2019[\"Chronic_HL\"].sum()\n",
    "# # chronic_2019\n",
    "\n",
    "chronic_perc_2019 = chronic_2019 / total_2019*100\n",
    "# chronic_perc_2019\n",
    "\n",
    "mental_2019 = homeless_2019[\"Serious Mental Illness\"].sum()\n",
    "# mental_2017\n",
    "\n",
    "mental_perc_2019 = mental_2019 / total_2019*100\n",
    "# mental_perc_2017\n",
    "\n",
    "dv_2019 = homeless_2019[\"DV_Exp\"].sum()\n",
    "# dv_2018\n",
    "\n",
    "dv_perc_2019 = dv_2019 / total_2018*100\n",
    "# dv_perc_2019"
   ]
  },
  {
   "cell_type": "code",
   "execution_count": 15,
   "metadata": {},
   "outputs": [],
   "source": [
    "uns_total_2019 = unsheltered_2019[\"total_homeless\"].sum()\n",
    "# uns_total_2019\n",
    "\n",
    "uns_total_perc_2019 = uns_total_2019 / total_2019*100\n",
    "uns_total_perc_2019\n",
    "\n",
    "uns_sud_2019 = unsheltered_2019[\"SUD\"].sum()\n",
    "# uns_sud_2019\n",
    "\n",
    "uns_sud_perc_2019 = uns_sud_2019 / uns_total_2019*100\n",
    "# uns_sud_perc_2019\n",
    "\n",
    "uns_chronic_2019 = unsheltered_2019[\"Chronic_HL\"].sum()\n",
    "# uns_chronic_2019\n",
    "\n",
    "uns_chronic_perc_2019 = uns_chronic_2019 / uns_total_2019*100\n",
    "# uns_chronic_perc_2019\n",
    "\n",
    "uns_mental_2019 = unsheltered_2019[\"Serious Mental Illness\"].sum()\n",
    "# uns_mental_2019\n",
    "\n",
    "uns_mental_perc_2019 = uns_mental_2019 / uns_total_2019*100\n",
    "# uns_mental_perc_2019\n",
    "\n",
    "uns_dv_2019 = unsheltered_2019[\"DV_Exp\"].sum()\n",
    "# uns_dv_2019\n",
    "\n",
    "uns_dv_perc_2019 = uns_dv_2019 / uns_total_2019*100\n",
    "# uns_dv_perc_2019"
   ]
  },
  {
   "cell_type": "code",
   "execution_count": 16,
   "metadata": {},
   "outputs": [],
   "source": [
    "sh_total_2019 = sheltered_2019[\"total_homeless\"].sum()\n",
    "# sh_total_2019\n",
    "\n",
    "sh_total_perc_2019 = sh_total_2019 / total_2019*100\n",
    "# sh_total_perc_2019\n",
    "\n",
    "sh_sud_2019 = sheltered_2019[\"SUD\"].sum()\n",
    "# sh_sud_2019\n",
    "\n",
    "sh_sud_perc_2019 = sh_sud_2019 / sh_total_2019*100\n",
    "# sh_sud_perc_2019\n",
    "\n",
    "sh_chronic_2019 = sheltered_2019[\"Chronic_HL\"].sum()\n",
    "# sh_chronic_2019\n",
    "\n",
    "sh_chronic_perc_2019 = sh_chronic_2019 / sh_total_2019*100\n",
    "# sh_chronic_perc_2019\n",
    "\n",
    "sh_mental_2019 = sheltered_2019[\"Serious Mental Illness\"].sum()\n",
    "# sh_mental_2019\n",
    "\n",
    "sh_mental_perc_2019 = sh_mental_2019 / sh_total_2019*100\n",
    "# sh_mental_perc_2019\n",
    "\n",
    "sh_dv_2019 = sheltered_2019[\"DV_Exp\"].sum()\n",
    "# sh_dv_2019\n",
    "\n",
    "sh_dv_perc_2019 = sh_dv_2019 / sh_total_2019*100\n",
    "# sh_dv_perc_2019"
   ]
  },
  {
   "cell_type": "code",
   "execution_count": 17,
   "metadata": {},
   "outputs": [],
   "source": [
    "hl_dv_2019 = homeless_2019[\"Homeless Due to Fleeing DV/IPV\"].sum()\n",
    "# hl_dv_2019\n",
    "\n",
    "hl_dv_perc_2019 = hl_dv_2019 / total_2019*100\n",
    "# hl_dv_perc_2019"
   ]
  },
  {
   "cell_type": "code",
   "execution_count": 18,
   "metadata": {},
   "outputs": [
    {
     "data": {
      "text/html": [
       "<div>\n",
       "<style scoped>\n",
       "    .dataframe tbody tr th:only-of-type {\n",
       "        vertical-align: middle;\n",
       "    }\n",
       "\n",
       "    .dataframe tbody tr th {\n",
       "        vertical-align: top;\n",
       "    }\n",
       "\n",
       "    .dataframe thead th {\n",
       "        text-align: right;\n",
       "    }\n",
       "</style>\n",
       "<table border=\"1\" class=\"dataframe\">\n",
       "  <thead>\n",
       "    <tr style=\"text-align: right;\">\n",
       "      <th></th>\n",
       "      <th>2017 - Total Homeless Persons</th>\n",
       "      <th>Substance Use</th>\n",
       "      <th>% Substance Use</th>\n",
       "      <th>Chronically Homeless</th>\n",
       "      <th>% Chronically Homeless</th>\n",
       "      <th>Serious Mental Illness</th>\n",
       "      <th>% Serious Mental Illness</th>\n",
       "      <th>Experiencing Domestic Violence</th>\n",
       "      <th>% Experiencing Domestic Violence</th>\n",
       "    </tr>\n",
       "  </thead>\n",
       "  <tbody>\n",
       "    <tr>\n",
       "      <th>0</th>\n",
       "      <td>52442</td>\n",
       "      <td>8408</td>\n",
       "      <td>16.032951</td>\n",
       "      <td>16241</td>\n",
       "      <td>30.969452</td>\n",
       "      <td>14664</td>\n",
       "      <td>27.96232</td>\n",
       "      <td>16422</td>\n",
       "      <td>31.314595</td>\n",
       "    </tr>\n",
       "  </tbody>\n",
       "</table>\n",
       "</div>"
      ],
      "text/plain": [
       "   2017 - Total Homeless Persons  Substance Use  % Substance Use  \\\n",
       "0                          52442           8408        16.032951   \n",
       "\n",
       "   Chronically Homeless  % Chronically Homeless  Serious Mental Illness  \\\n",
       "0                 16241               30.969452                   14664   \n",
       "\n",
       "   % Serious Mental Illness  Experiencing Domestic Violence  \\\n",
       "0                  27.96232                           16422   \n",
       "\n",
       "   % Experiencing Domestic Violence  \n",
       "0                         31.314595  "
      ]
     },
     "execution_count": 18,
     "metadata": {},
     "output_type": "execute_result"
    }
   ],
   "source": [
    "summary_2017 = pd.DataFrame({\"2017 - Total Homeless Persons\":[total_2017],\"Substance Use\":[sud_2017], \"% Substance Use\":[sud_perc_2017], \"Chronically Homeless\":[chronic_2017], \"% Chronically Homeless\":[chronic_perc_2017], \"Serious Mental Illness\":[mental_2017], \"% Serious Mental Illness\":[mental_perc_2017], \"Experiencing Domestic Violence\":[dv_2017], \"% Experiencing Domestic Violence\":[dv_perc_2017]})\n",
    "summary_2017"
   ]
  },
  {
   "cell_type": "code",
   "execution_count": 19,
   "metadata": {},
   "outputs": [
    {
     "data": {
      "text/html": [
       "<div>\n",
       "<style scoped>\n",
       "    .dataframe tbody tr th:only-of-type {\n",
       "        vertical-align: middle;\n",
       "    }\n",
       "\n",
       "    .dataframe tbody tr th {\n",
       "        vertical-align: top;\n",
       "    }\n",
       "\n",
       "    .dataframe thead th {\n",
       "        text-align: right;\n",
       "    }\n",
       "</style>\n",
       "<table border=\"1\" class=\"dataframe\">\n",
       "  <thead>\n",
       "    <tr style=\"text-align: right;\">\n",
       "      <th></th>\n",
       "      <th>2017 - Total Unsheltered</th>\n",
       "      <th>% Unsheltered</th>\n",
       "      <th>Substance Use</th>\n",
       "      <th>% Substance Use</th>\n",
       "      <th>Chronically Homeless</th>\n",
       "      <th>% Chronically Homeless</th>\n",
       "      <th>Serious Mental Illness</th>\n",
       "      <th>% Serious Mental Illness</th>\n",
       "      <th>Experiencing Domestic Violence</th>\n",
       "      <th>% Experiencing Domestic Violence</th>\n",
       "    </tr>\n",
       "  </thead>\n",
       "  <tbody>\n",
       "    <tr>\n",
       "      <th>0</th>\n",
       "      <td>38470</td>\n",
       "      <td>73.357233</td>\n",
       "      <td>7586</td>\n",
       "      <td>19.719262</td>\n",
       "      <td>15251</td>\n",
       "      <td>39.643878</td>\n",
       "      <td>13373</td>\n",
       "      <td>34.762152</td>\n",
       "      <td>14388</td>\n",
       "      <td>37.400572</td>\n",
       "    </tr>\n",
       "  </tbody>\n",
       "</table>\n",
       "</div>"
      ],
      "text/plain": [
       "   2017 - Total Unsheltered  % Unsheltered  Substance Use  % Substance Use  \\\n",
       "0                     38470      73.357233           7586        19.719262   \n",
       "\n",
       "   Chronically Homeless  % Chronically Homeless  Serious Mental Illness  \\\n",
       "0                 15251               39.643878                   13373   \n",
       "\n",
       "   % Serious Mental Illness  Experiencing Domestic Violence  \\\n",
       "0                 34.762152                           14388   \n",
       "\n",
       "   % Experiencing Domestic Violence  \n",
       "0                         37.400572  "
      ]
     },
     "execution_count": 19,
     "metadata": {},
     "output_type": "execute_result"
    }
   ],
   "source": [
    "uns_summary_2017 = pd.DataFrame({\"2017 - Total Unsheltered\":[uns_total_2017], \"% Unsheltered\":[uns_total_perc_2017], \"Substance Use\":[uns_sud_2017], \"% Substance Use\":[uns_sud_perc_2017], \"Chronically Homeless\":[uns_chronic_2017], \"% Chronically Homeless\":[uns_chronic_perc_2017], \"Serious Mental Illness\":[uns_mental_2017], \"% Serious Mental Illness\":[uns_mental_perc_2017], \"Experiencing Domestic Violence\":[uns_dv_2017], \"% Experiencing Domestic Violence\":[uns_dv_perc_2017]})\n",
    "uns_summary_2017"
   ]
  },
  {
   "cell_type": "code",
   "execution_count": 20,
   "metadata": {},
   "outputs": [
    {
     "data": {
      "text/html": [
       "<div>\n",
       "<style scoped>\n",
       "    .dataframe tbody tr th:only-of-type {\n",
       "        vertical-align: middle;\n",
       "    }\n",
       "\n",
       "    .dataframe tbody tr th {\n",
       "        vertical-align: top;\n",
       "    }\n",
       "\n",
       "    .dataframe thead th {\n",
       "        text-align: right;\n",
       "    }\n",
       "</style>\n",
       "<table border=\"1\" class=\"dataframe\">\n",
       "  <thead>\n",
       "    <tr style=\"text-align: right;\">\n",
       "      <th></th>\n",
       "      <th>2017 - Total Sheltered</th>\n",
       "      <th>% Sheltered</th>\n",
       "      <th>Substance Use</th>\n",
       "      <th>% Substance Use</th>\n",
       "      <th>Chronically Homeless</th>\n",
       "      <th>% Chronically Homeless</th>\n",
       "      <th>Serious Mental Illness</th>\n",
       "      <th>% Serious Mental Illness</th>\n",
       "      <th>Experiencing Domestic Violence</th>\n",
       "      <th>% Experiencing Domestic Violence</th>\n",
       "    </tr>\n",
       "  </thead>\n",
       "  <tbody>\n",
       "    <tr>\n",
       "      <th>0</th>\n",
       "      <td>13972</td>\n",
       "      <td>26.642767</td>\n",
       "      <td>822</td>\n",
       "      <td>5.883195</td>\n",
       "      <td>990</td>\n",
       "      <td>7.0856</td>\n",
       "      <td>1291</td>\n",
       "      <td>9.239908</td>\n",
       "      <td>2034</td>\n",
       "      <td>14.557687</td>\n",
       "    </tr>\n",
       "  </tbody>\n",
       "</table>\n",
       "</div>"
      ],
      "text/plain": [
       "   2017 - Total Sheltered  % Sheltered  Substance Use  % Substance Use  \\\n",
       "0                   13972    26.642767            822         5.883195   \n",
       "\n",
       "   Chronically Homeless  % Chronically Homeless  Serious Mental Illness  \\\n",
       "0                   990                  7.0856                    1291   \n",
       "\n",
       "   % Serious Mental Illness  Experiencing Domestic Violence  \\\n",
       "0                  9.239908                            2034   \n",
       "\n",
       "   % Experiencing Domestic Violence  \n",
       "0                         14.557687  "
      ]
     },
     "execution_count": 20,
     "metadata": {},
     "output_type": "execute_result"
    }
   ],
   "source": [
    "sh_summary_2017 = pd.DataFrame({\"2017 - Total Sheltered\":[sh_total_2017], \"% Sheltered\":[sh_total_perc_2017], \"Substance Use\":[sh_sud_2017], \"% Substance Use\":[sh_sud_perc_2017], \"Chronically Homeless\":[sh_chronic_2017], \"% Chronically Homeless\":[sh_chronic_perc_2017], \"Serious Mental Illness\":[sh_mental_2017], \"% Serious Mental Illness\":[sh_mental_perc_2017], \"Experiencing Domestic Violence\":[sh_dv_2017], \"% Experiencing Domestic Violence\":[sh_dv_perc_2017]})\n",
    "sh_summary_2017"
   ]
  },
  {
   "cell_type": "code",
   "execution_count": 21,
   "metadata": {},
   "outputs": [
    {
     "data": {
      "text/html": [
       "<div>\n",
       "<style scoped>\n",
       "    .dataframe tbody tr th:only-of-type {\n",
       "        vertical-align: middle;\n",
       "    }\n",
       "\n",
       "    .dataframe tbody tr th {\n",
       "        vertical-align: top;\n",
       "    }\n",
       "\n",
       "    .dataframe thead th {\n",
       "        text-align: right;\n",
       "    }\n",
       "</style>\n",
       "<table border=\"1\" class=\"dataframe\">\n",
       "  <thead>\n",
       "    <tr style=\"text-align: right;\">\n",
       "      <th></th>\n",
       "      <th>2018 - Total Homeless Persons</th>\n",
       "      <th>Substance Use</th>\n",
       "      <th>% Substance Use</th>\n",
       "      <th>Chronically Homeless</th>\n",
       "      <th>% Chronically Homeless</th>\n",
       "      <th>Serious Mental Illness</th>\n",
       "      <th>% Serious Mental Illness</th>\n",
       "      <th>Experiencing Domestic Violence</th>\n",
       "      <th>% Experiencing Domestic Violence</th>\n",
       "    </tr>\n",
       "  </thead>\n",
       "  <tbody>\n",
       "    <tr>\n",
       "      <th>0</th>\n",
       "      <td>49955</td>\n",
       "      <td>6677</td>\n",
       "      <td>13.366029</td>\n",
       "      <td>13275</td>\n",
       "      <td>26.573917</td>\n",
       "      <td>12103</td>\n",
       "      <td>24.227805</td>\n",
       "      <td>13374</td>\n",
       "      <td>26.772095</td>\n",
       "    </tr>\n",
       "  </tbody>\n",
       "</table>\n",
       "</div>"
      ],
      "text/plain": [
       "   2018 - Total Homeless Persons  Substance Use  % Substance Use  \\\n",
       "0                          49955           6677        13.366029   \n",
       "\n",
       "   Chronically Homeless  % Chronically Homeless  Serious Mental Illness  \\\n",
       "0                 13275               26.573917                   12103   \n",
       "\n",
       "   % Serious Mental Illness  Experiencing Domestic Violence  \\\n",
       "0                 24.227805                           13374   \n",
       "\n",
       "   % Experiencing Domestic Violence  \n",
       "0                         26.772095  "
      ]
     },
     "execution_count": 21,
     "metadata": {},
     "output_type": "execute_result"
    }
   ],
   "source": [
    "summary_2018 = pd.DataFrame({\"2018 - Total Homeless Persons\":[total_2018],\"Substance Use\":[sud_2018], \"% Substance Use\":[sud_perc_2018], \"Chronically Homeless\":[chronic_2018], \"% Chronically Homeless\":[chronic_perc_2018], \"Serious Mental Illness\":[mental_2018], \"% Serious Mental Illness\":[mental_perc_2018], \"Experiencing Domestic Violence\":[dv_2018], \"% Experiencing Domestic Violence\":[dv_perc_2018]})\n",
    "summary_2018"
   ]
  },
  {
   "cell_type": "code",
   "execution_count": 22,
   "metadata": {},
   "outputs": [
    {
     "data": {
      "text/html": [
       "<div>\n",
       "<style scoped>\n",
       "    .dataframe tbody tr th:only-of-type {\n",
       "        vertical-align: middle;\n",
       "    }\n",
       "\n",
       "    .dataframe tbody tr th {\n",
       "        vertical-align: top;\n",
       "    }\n",
       "\n",
       "    .dataframe thead th {\n",
       "        text-align: right;\n",
       "    }\n",
       "</style>\n",
       "<table border=\"1\" class=\"dataframe\">\n",
       "  <thead>\n",
       "    <tr style=\"text-align: right;\">\n",
       "      <th></th>\n",
       "      <th>2018 - Total Unsheltered</th>\n",
       "      <th>% Unsheltered</th>\n",
       "      <th>Substance Use</th>\n",
       "      <th>% Substance Use</th>\n",
       "      <th>Chronically Homeless</th>\n",
       "      <th>% Chronically Homeless</th>\n",
       "      <th>Serious Mental Illness</th>\n",
       "      <th>% Serious Mental Illness</th>\n",
       "      <th>Experiencing Domestic Violence</th>\n",
       "      <th>% Experiencing Domestic Violence</th>\n",
       "    </tr>\n",
       "  </thead>\n",
       "  <tbody>\n",
       "    <tr>\n",
       "      <th>0</th>\n",
       "      <td>37570</td>\n",
       "      <td>75.207687</td>\n",
       "      <td>6406</td>\n",
       "      <td>17.050838</td>\n",
       "      <td>12422</td>\n",
       "      <td>33.063615</td>\n",
       "      <td>10849</td>\n",
       "      <td>28.876763</td>\n",
       "      <td>11789</td>\n",
       "      <td>31.37876</td>\n",
       "    </tr>\n",
       "  </tbody>\n",
       "</table>\n",
       "</div>"
      ],
      "text/plain": [
       "   2018 - Total Unsheltered  % Unsheltered  Substance Use  % Substance Use  \\\n",
       "0                     37570      75.207687           6406        17.050838   \n",
       "\n",
       "   Chronically Homeless  % Chronically Homeless  Serious Mental Illness  \\\n",
       "0                 12422               33.063615                   10849   \n",
       "\n",
       "   % Serious Mental Illness  Experiencing Domestic Violence  \\\n",
       "0                 28.876763                           11789   \n",
       "\n",
       "   % Experiencing Domestic Violence  \n",
       "0                          31.37876  "
      ]
     },
     "execution_count": 22,
     "metadata": {},
     "output_type": "execute_result"
    }
   ],
   "source": [
    "uns_summary_2018 = pd.DataFrame({\"2018 - Total Unsheltered\":[uns_total_2018], \"% Unsheltered\":[uns_total_perc_2018], \"Substance Use\":[uns_sud_2018], \"% Substance Use\":[uns_sud_perc_2018], \"Chronically Homeless\":[uns_chronic_2018], \"% Chronically Homeless\":[uns_chronic_perc_2018], \"Serious Mental Illness\":[uns_mental_2018], \"% Serious Mental Illness\":[uns_mental_perc_2018], \"Experiencing Domestic Violence\":[uns_dv_2018], \"% Experiencing Domestic Violence\":[uns_dv_perc_2018]})\n",
    "uns_summary_2018"
   ]
  },
  {
   "cell_type": "code",
   "execution_count": 23,
   "metadata": {},
   "outputs": [
    {
     "data": {
      "text/html": [
       "<div>\n",
       "<style scoped>\n",
       "    .dataframe tbody tr th:only-of-type {\n",
       "        vertical-align: middle;\n",
       "    }\n",
       "\n",
       "    .dataframe tbody tr th {\n",
       "        vertical-align: top;\n",
       "    }\n",
       "\n",
       "    .dataframe thead th {\n",
       "        text-align: right;\n",
       "    }\n",
       "</style>\n",
       "<table border=\"1\" class=\"dataframe\">\n",
       "  <thead>\n",
       "    <tr style=\"text-align: right;\">\n",
       "      <th></th>\n",
       "      <th>2018 - Total Sheltered</th>\n",
       "      <th>% Sheltered</th>\n",
       "      <th>Substance Use</th>\n",
       "      <th>% Substance Use</th>\n",
       "      <th>Chronically Homeless</th>\n",
       "      <th>% Chronically Homeless</th>\n",
       "      <th>Serious Mental Illness</th>\n",
       "      <th>% Serious Mental Illness</th>\n",
       "      <th>Experiencing Domestic Violence</th>\n",
       "      <th>% Experiencing Domestic Violence</th>\n",
       "    </tr>\n",
       "  </thead>\n",
       "  <tbody>\n",
       "    <tr>\n",
       "      <th>0</th>\n",
       "      <td>12385</td>\n",
       "      <td>24.792313</td>\n",
       "      <td>271</td>\n",
       "      <td>2.188131</td>\n",
       "      <td>853</td>\n",
       "      <td>6.887364</td>\n",
       "      <td>1254</td>\n",
       "      <td>10.125151</td>\n",
       "      <td>1585</td>\n",
       "      <td>12.797739</td>\n",
       "    </tr>\n",
       "  </tbody>\n",
       "</table>\n",
       "</div>"
      ],
      "text/plain": [
       "   2018 - Total Sheltered  % Sheltered  Substance Use  % Substance Use  \\\n",
       "0                   12385    24.792313            271         2.188131   \n",
       "\n",
       "   Chronically Homeless  % Chronically Homeless  Serious Mental Illness  \\\n",
       "0                   853                6.887364                    1254   \n",
       "\n",
       "   % Serious Mental Illness  Experiencing Domestic Violence  \\\n",
       "0                 10.125151                            1585   \n",
       "\n",
       "   % Experiencing Domestic Violence  \n",
       "0                         12.797739  "
      ]
     },
     "execution_count": 23,
     "metadata": {},
     "output_type": "execute_result"
    }
   ],
   "source": [
    "sh_summary_2018 = pd.DataFrame({\"2018 - Total Sheltered\":[sh_total_2018], \"% Sheltered\":[sh_total_perc_2018], \"Substance Use\":[sh_sud_2018], \"% Substance Use\":[sh_sud_perc_2018], \"Chronically Homeless\":[sh_chronic_2018], \"% Chronically Homeless\":[sh_chronic_perc_2018], \"Serious Mental Illness\":[sh_mental_2018], \"% Serious Mental Illness\":[sh_mental_perc_2018], \"Experiencing Domestic Violence\":[sh_dv_2018], \"% Experiencing Domestic Violence\":[sh_dv_perc_2018]})\n",
    "sh_summary_2018"
   ]
  },
  {
   "cell_type": "code",
   "execution_count": 26,
   "metadata": {},
   "outputs": [
    {
     "data": {
      "text/html": [
       "<div>\n",
       "<style scoped>\n",
       "    .dataframe tbody tr th:only-of-type {\n",
       "        vertical-align: middle;\n",
       "    }\n",
       "\n",
       "    .dataframe tbody tr th {\n",
       "        vertical-align: top;\n",
       "    }\n",
       "\n",
       "    .dataframe thead th {\n",
       "        text-align: right;\n",
       "    }\n",
       "</style>\n",
       "<table border=\"1\" class=\"dataframe\">\n",
       "  <thead>\n",
       "    <tr style=\"text-align: right;\">\n",
       "      <th></th>\n",
       "      <th>2019 - Total Sheltered</th>\n",
       "      <th>% Sheltered</th>\n",
       "      <th>Substance Use</th>\n",
       "      <th>% Substance Use</th>\n",
       "      <th>Chronically Homeless</th>\n",
       "      <th>% Chronically Homeless</th>\n",
       "      <th>Serious Mental Illness</th>\n",
       "      <th>% Serious Mental Illness</th>\n",
       "      <th>Experiencing Domestic Violence</th>\n",
       "      <th>% Experiencing Domestic Violence</th>\n",
       "    </tr>\n",
       "  </thead>\n",
       "  <tbody>\n",
       "    <tr>\n",
       "      <th>0</th>\n",
       "      <td>13786</td>\n",
       "      <td>24.505395</td>\n",
       "      <td>681</td>\n",
       "      <td>4.939794</td>\n",
       "      <td>1781</td>\n",
       "      <td>12.918903</td>\n",
       "      <td>1965</td>\n",
       "      <td>14.253591</td>\n",
       "      <td>1983</td>\n",
       "      <td>14.384158</td>\n",
       "    </tr>\n",
       "  </tbody>\n",
       "</table>\n",
       "</div>"
      ],
      "text/plain": [
       "   2019 - Total Sheltered  % Sheltered  Substance Use  % Substance Use  \\\n",
       "0                   13786    24.505395            681         4.939794   \n",
       "\n",
       "   Chronically Homeless  % Chronically Homeless  Serious Mental Illness  \\\n",
       "0                  1781               12.918903                    1965   \n",
       "\n",
       "   % Serious Mental Illness  Experiencing Domestic Violence  \\\n",
       "0                 14.253591                            1983   \n",
       "\n",
       "   % Experiencing Domestic Violence  \n",
       "0                         14.384158  "
      ]
     },
     "execution_count": 26,
     "metadata": {},
     "output_type": "execute_result"
    }
   ],
   "source": [
    "summary_2019 = pd.DataFrame({\"2019 - Total Homeless Persons\":[total_2019],\"Substance Use\":[sud_2019], \"% Substance Use\":[sud_perc_2019], \"Chronically Homeless\":[chronic_2019], \"% Chronically Homeless\":[chronic_perc_2019], \"Serious Mental Illness\":[mental_2019], \"% Serious Mental Illness\":[mental_perc_2019], \"Experiencing Domestic Violence\":[dv_2019], \"% Experiencing Domestic Violence\":[dv_perc_2019]})\n",
    "# summary_2019\n",
    "\n",
    "uns_summary_2019 = pd.DataFrame({\"2019 - Total Unsheltered\":[uns_total_2019], \"% Unsheltered\":[uns_total_perc_2019], \"Substance Use\":[uns_sud_2019], \"% Substance Use\":[uns_sud_perc_2019], \"Chronically Homeless\":[uns_chronic_2019], \"% Chronically Homeless\":[uns_chronic_perc_2019], \"Serious Mental Illness\":[uns_mental_2019], \"% Serious Mental Illness\":[uns_mental_perc_2019], \"Experiencing Domestic Violence\":[uns_dv_2019], \"% Experiencing Domestic Violence\":[uns_dv_perc_2019]})\n",
    "# uns_summary_2019\n",
    "\n",
    "sh_summary_2019 = pd.DataFrame({\"2019 - Total Sheltered\":[sh_total_2019], \"% Sheltered\":[sh_total_perc_2019], \"Substance Use\":[sh_sud_2019], \"% Substance Use\":[sh_sud_perc_2019], \"Chronically Homeless\":[sh_chronic_2019], \"% Chronically Homeless\":[sh_chronic_perc_2019], \"Serious Mental Illness\":[sh_mental_2019], \"% Serious Mental Illness\":[sh_mental_perc_2019], \"Experiencing Domestic Violence\":[sh_dv_2019], \"% Experiencing Domestic Violence\":[sh_dv_perc_2019]})\n",
    "# sh_summary_2019"
   ]
  },
  {
   "cell_type": "code",
   "execution_count": 61,
   "metadata": {},
   "outputs": [],
   "source": [
    "years = [\"2007\", \"2018\", \"2019\"]\n",
    "totals = [52442, 49955, 56257]"
   ]
  },
  {
   "cell_type": "code",
   "execution_count": 28,
   "metadata": {
    "scrolled": true
   },
   "outputs": [
    {
     "data": {
      "image/png": "[encoded data removed]",
      "text/plain": [
       "<Figure size 432x288 with 1 Axes>"
      ]
     },
     "metadata": {
      "needs_background": "light"
     },
     "output_type": "display_data"
    }
   ],
   "source": [
    "x_axis = np.arange(0, len(years))\n",
    "tick_locations = []\n",
    "for x in x_axis:\n",
    "    tick_locations.append(x)\n",
    "\n",
    "plt.title(\"Total Homeless Population in Los Angeles County per Year\")\n",
    "plt.xlabel(\"Years\")\n",
    "plt.ylabel(\"Total Homeless Persons\")\n",
    "\n",
    "plt.xlim(-0.75, len(years)-.25)\n",
    "plt.ylim(0, max(totals) + 5)\n",
    "\n",
    "plt.bar(x_axis, totals, facecolor=\"blue\", alpha=0.75, align=\"center\")\n",
    "plt.xticks(tick_locations, years)\n",
    "# plt.show()"
   ]
  },
  {
   "cell_type": "code",
   "execution_count": 31,
   "metadata": {},
   "outputs": [
    {
     "data": {
      "image/png": "[encoded data removed]",
      "text/plain": [
       "<Figure size 432x288 with 1 Axes>"
      ]
     },
     "metadata": {
      "needs_background": "light"
     },
     "output_type": "display_data"
    }
   ],
   "source": [
    "plt.scatter(homeless_2017.iloc[:,3],homeless_2017.iloc[:,14])\n",
    "plt.title(\"Substance Use by Homeless Population in Los Angeles County\")\n",
    "plt.xlabel('Homeless Population')\n",
    "plt.ylabel('Substance Use Disorder Rates')\n",
    "plt.savefig(\"Images/graph.png\")\n",
    "# plt.show()\n"
   ]
  },
  {
   "cell_type": "code",
   "execution_count": 33,
   "metadata": {},
   "outputs": [
    {
     "data": {
      "image/png": "[encoded data removed]",
      "text/plain": [
       "<Figure size 432x288 with 1 Axes>"
      ]
     },
     "metadata": {
      "needs_background": "light"
     },
     "output_type": "display_data"
    }
   ],
   "source": [
    "plt.scatter(homeless_2018.iloc[:,3],homeless_2018.iloc[:,14])\n",
    "plt.title(\"Substance Use by Homeless Population in Los Angeles County\")\n",
    "plt.xlabel('Homeless Population')\n",
    "plt.ylabel('Substance Use Disorder Rates')\n",
    "plt.savefig(\"Images/graph2.png\")\n",
    "# plt.show()"
   ]
  },
  {
   "cell_type": "code",
   "execution_count": 34,
   "metadata": {},
   "outputs": [
    {
     "data": {
      "image/png": "[encoded data removed]",
      "text/plain": [
       "<Figure size 432x288 with 1 Axes>"
      ]
     },
     "metadata": {
      "needs_background": "light"
     },
     "output_type": "display_data"
    }
   ],
   "source": [
    "plt.scatter(homeless_2019.iloc[:,3],homeless_2019.iloc[:,14])\n",
    "plt.title(\"Substance Use by Homeless Population in Los Angeles County\")\n",
    "plt.xlabel('Homeless Population')\n",
    "plt.ylabel('Substance Use Disorder Rates')\n",
    "plt.savefig(\"Images/graph3.png\")\n",
    "plt.show()"
   ]
  },
  {
   "cell_type": "code",
   "execution_count": 35,
   "metadata": {},
   "outputs": [
    {
     "name": "stdout",
     "output_type": "stream",
     "text": [
      "The correlation between both factors is 0.16\n"
     ]
    }
   ],
   "source": [
    "homeless = homeless_2017.iloc[:,3]\n",
    "sud = homeless_2017.iloc[:,14]\n",
    "correlation = st.pearsonr(homeless,sud)\n",
    "print(f\"The correlation between both factors is {round(correlation[0],2)}\")"
   ]
  },
  {
   "cell_type": "code",
   "execution_count": 36,
   "metadata": {},
   "outputs": [
    {
     "name": "stdout",
     "output_type": "stream",
     "text": [
      "The correlation between both factors is 0.81\n"
     ]
    }
   ],
   "source": [
    "homeless = homeless_2018.iloc[:,3]\n",
    "sud = homeless_2018.iloc[:,14]\n",
    "correlation = st.pearsonr(homeless,sud)\n",
    "print(f\"The correlation between both factors is {round(correlation[0],2)}\")"
   ]
  },
  {
   "cell_type": "code",
   "execution_count": 37,
   "metadata": {},
   "outputs": [
    {
     "name": "stdout",
     "output_type": "stream",
     "text": [
      "The correlation between both factors is 0.03\n"
     ]
    }
   ],
   "source": [
    "homeless = homeless_2019.iloc[:,3]\n",
    "sud = homeless_2019.iloc[:,14]\n",
    "correlation = st.pearsonr(homeless,sud)\n",
    "print(f\"The correlation between both factors is {round(correlation[0],2)}\")"
   ]
  },
  {
   "cell_type": "code",
   "execution_count": 38,
   "metadata": {},
   "outputs": [
    {
     "data": {
      "image/png": "[encoded data removed]",
      "text/plain": [
       "<Figure size 432x288 with 1 Axes>"
      ]
     },
     "metadata": {
      "needs_background": "light"
     },
     "output_type": "display_data"
    }
   ],
   "source": [
    "plt.scatter(homeless_2017.iloc[:,13],homeless_2017.iloc[:,14])\n",
    "plt.title(\"Substance Use by Homeless Population in Los Angeles County\")\n",
    "plt.xlabel('Homeless Population')\n",
    "plt.ylabel('Substance Use Disorder Rates')\n",
    "plt.savefig(\"Images/graph4.png\")\n",
    "plt.show()"
   ]
  },
  {
   "cell_type": "code",
   "execution_count": 39,
   "metadata": {},
   "outputs": [
    {
     "data": {
      "image/png": "[encoded data removed]",
      "text/plain": [
       "<Figure size 432x288 with 1 Axes>"
      ]
     },
     "metadata": {
      "needs_background": "light"
     },
     "output_type": "display_data"
    }
   ],
   "source": [
    "plt.scatter(homeless_2018.iloc[:,13],homeless_2018.iloc[:,14])\n",
    "plt.title(\"Substance Use by Homeless Population in Los Angeles County\")\n",
    "plt.xlabel('Homeless Population')\n",
    "plt.ylabel('Substance Use Disorder Rates')\n",
    "plt.savefig(\"Images/graph5.png\")\n",
    "plt.show()"
   ]
  },
  {
   "cell_type": "code",
   "execution_count": 40,
   "metadata": {},
   "outputs": [
    {
     "data": {
      "image/png": "[encoded data removed]",
      "text/plain": [
       "<Figure size 432x288 with 1 Axes>"
      ]
     },
     "metadata": {
      "needs_background": "light"
     },
     "output_type": "display_data"
    }
   ],
   "source": [
    "plt.scatter(homeless_2019.iloc[:,13],homeless_2019.iloc[:,14])\n",
    "plt.title(\"Substance Use by Homeless Population in Los Angeles County\")\n",
    "plt.xlabel('Homeless Population')\n",
    "plt.ylabel('Substance Use Disorder Rates')\n",
    "plt.savefig(\"Images/graph6.png\")\n",
    "plt.show()"
   ]
  },
  {
   "cell_type": "code",
   "execution_count": 41,
   "metadata": {},
   "outputs": [
    {
     "name": "stdout",
     "output_type": "stream",
     "text": [
      "The correlation between both factors is 0.05\n"
     ]
    }
   ],
   "source": [
    "chr_homeless = homeless_2017.iloc[:,13]\n",
    "sud = homeless_2017.iloc[:,14]\n",
    "correlation = st.pearsonr(chr_homeless,sud)\n",
    "print(f\"The correlation between both factors is {round(correlation[0],2)}\")"
   ]
  },
  {
   "cell_type": "code",
   "execution_count": 42,
   "metadata": {},
   "outputs": [
    {
     "name": "stdout",
     "output_type": "stream",
     "text": [
      "The correlation between both factors is -0.27\n"
     ]
    }
   ],
   "source": [
    "chr_homeless = homeless_2018.iloc[:,13]\n",
    "sud = homeless_2018.iloc[:,14]\n",
    "correlation = st.pearsonr(chr_homeless,sud)\n",
    "print(f\"The correlation between both factors is {round(correlation[0],2)}\")"
   ]
  },
  {
   "cell_type": "code",
   "execution_count": 43,
   "metadata": {},
   "outputs": [
    {
     "name": "stdout",
     "output_type": "stream",
     "text": [
      "The correlation between both factors is 0.94\n"
     ]
    }
   ],
   "source": [
    "chr_homeless = homeless_2019.iloc[:,13]\n",
    "sud = homeless_2019.iloc[:,14]\n",
    "correlation = st.pearsonr(chr_homeless,sud)\n",
    "print(f\"The correlation between both factors is {round(correlation[0],2)}\")"
   ]
  },
  {
   "cell_type": "code",
   "execution_count": 59,
   "metadata": {},
   "outputs": [
    {
     "data": {
      "text/plain": [
       "([<matplotlib.axis.XTick at 0x18a9421ae08>,\n",
       "  <matplotlib.axis.XTick at 0x18a94221288>,\n",
       "  <matplotlib.axis.XTick at 0x18a94221e08>],\n",
       " <a list of 3 Text xticklabel objects>)"
      ]
     },
     "execution_count": 59,
     "metadata": {},
     "output_type": "execute_result"
    },
    {
     "data": {
      "image/png": "[encoded data removed]",
      "text/plain": [
       "<Figure size 432x288 with 1 Axes>"
      ]
     },
     "metadata": {
      "needs_background": "light"
     },
     "output_type": "display_data"
    }
   ],
   "source": [
    "# x_axis = np.arange(1,4,1)\n",
    "# x_axis = \n",
    "plt.xticks(np.arange(0,3,1),['2017','2018','2019'])\n"
   ]
  },
  {
   "cell_type": "code",
   "execution_count": 66,
   "metadata": {},
   "outputs": [
    {
     "data": {
      "image/png": "[encoded data removed]",
      "text/plain": [
       "<Figure size 432x288 with 1 Axes>"
      ]
     },
     "metadata": {
      "needs_background": "light"
     },
     "output_type": "display_data"
    }
   ],
   "source": [
    "total_sud = [16.03, 13.36, 12.91]\n",
    "uns_sud = [19.71, 17.05, 15.49]\n",
    "sh_sud = [5.88, 2.18, 4.93]\n",
    "plt.xticks(np.arange(0,3,1),['2017','2018','2019'])\n",
    "\n",
    "hmless_pop, = plt.plot(x_axis, total_sud, marker=\"+\",color=\"blue\", linewidth=1, label=\"Homeless Population\")\n",
    "hmless_uns, = plt.plot(x_axis, uns_sud, marker=\"s\", color=\"Red\", linewidth=1, label=\"Unsheltered\")\n",
    "hmless_sh, = plt.plot(x_axis, sh_sud, marker=\"s\", color=\"green\", linewidth=1, label=\"Sheltered\")\n",
    "plt.savefig(\"Images/linegraph.png\")"
   ]
  },
  {
   "cell_type": "code",
   "execution_count": 195,
   "metadata": {},
   "outputs": [
    {
     "data": {
      "text/plain": [
       "<matplotlib.legend.Legend at 0x158c4f2f6c8>"
      ]
     },
     "execution_count": 195,
     "metadata": {},
     "output_type": "execute_result"
    }
   ],
   "source": [
    "plt.legend(handles=[hmless_pop, hmless_uns, hmless_sh], loc=\"best\")"
   ]
  },
  {
   "cell_type": "code",
   "execution_count": 196,
   "metadata": {},
   "outputs": [
    {
     "data": {
      "text/plain": [
       "Text(37.8125, 0.5, 'Rates')"
      ]
     },
     "execution_count": 196,
     "metadata": {},
     "output_type": "execute_result"
    }
   ],
   "source": [
    "plt.title(\"Substance Use Rates by Shelter Status in Los Angeles County\")\n",
    "plt.xlabel(\"Years\")\n",
    "plt.ylabel(\"Rates\")"
   ]
  },
  {
   "cell_type": "code",
   "execution_count": null,
   "metadata": {},
   "outputs": [],
   "source": []
  },
  {
   "cell_type": "code",
   "execution_count": null,
   "metadata": {},
   "outputs": [],
   "source": []
  }
 ],
 "metadata": {
  "kernelspec": {
   "display_name": "Python 3",
   "language": "python",
   "name": "python3"
  },
  "language_info": {
   "codemirror_mode": {
    "name": "ipython",
    "version": 3
   },
   "file_extension": ".py",
   "mimetype": "text/x-python",
   "name": "python",
   "nbconvert_exporter": "python",
   "pygments_lexer": "ipython3",
   "version": "3.7.6"
  }
 },
 "nbformat": 4,
 "nbformat_minor": 4
}
