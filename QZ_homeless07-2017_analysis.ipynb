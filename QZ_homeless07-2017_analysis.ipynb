{
 "cells": [
  {
   "cell_type": "code",
   "execution_count": 1,
   "metadata": {},
   "outputs": [
    {
     "data": {
      "text/html": [
       "        <script type=\"text/javascript\">\n",
       "        window.PlotlyConfig = {MathJaxConfig: 'local'};\n",
       "        if (window.MathJax) {MathJax.Hub.Config({SVG: {font: \"STIX-Web\"}});}\n",
       "        if (typeof require !== 'undefined') {\n",
       "        require.undef(\"plotly\");\n",
       "        requirejs.config({\n",
       "            paths: {\n",
       "                'plotly': ['https://cdn.plot.ly/plotly-latest.min']\n",
       "            }\n",
       "        });\n",
       "        require(['plotly'], function(Plotly) {\n",
       "            window._Plotly = Plotly;\n",
       "        });\n",
       "        }\n",
       "        </script>\n",
       "        "
      ]
     },
     "metadata": {},
     "output_type": "display_data"
    }
   ],
   "source": [
    "%matplotlib inline\n",
    "import pandas as pd\n",
    "import matplotlib.pyplot as plt\n",
    "import numpy as np\n",
    "import scipy.stats as st\n",
    "import plotly.graph_objs as go\n",
    "import seaborn as sns\n",
    "from plotly.offline import init_notebook_mode, iplot, plot\n",
    "init_notebook_mode(connected=True)\n",
    "plt.style.use(\"dark_background\")  "
   ]
  },
  {
   "cell_type": "code",
   "execution_count": 2,
   "metadata": {},
   "outputs": [],
   "source": [
    "df_hmless= pd.read_csv(\"Data/homelessness-07to16.csv\")"
   ]
  },
  {
   "cell_type": "code",
   "execution_count": 3,
   "metadata": {},
   "outputs": [
    {
     "data": {
      "text/html": [
       "<div>\n",
       "<style scoped>\n",
       "    .dataframe tbody tr th:only-of-type {\n",
       "        vertical-align: middle;\n",
       "    }\n",
       "\n",
       "    .dataframe tbody tr th {\n",
       "        vertical-align: top;\n",
       "    }\n",
       "\n",
       "    .dataframe thead th {\n",
       "        text-align: right;\n",
       "    }\n",
       "</style>\n",
       "<table border=\"1\" class=\"dataframe\">\n",
       "  <thead>\n",
       "    <tr style=\"text-align: right;\">\n",
       "      <th></th>\n",
       "      <th>Year</th>\n",
       "      <th>State</th>\n",
       "      <th>CoC Number</th>\n",
       "      <th>CoC Name</th>\n",
       "      <th>Measures</th>\n",
       "      <th>Count</th>\n",
       "    </tr>\n",
       "  </thead>\n",
       "  <tbody>\n",
       "    <tr>\n",
       "      <th>0</th>\n",
       "      <td>1/1/2007</td>\n",
       "      <td>AK</td>\n",
       "      <td>AK-500</td>\n",
       "      <td>Anchorage CoC</td>\n",
       "      <td>Chronically Homeless Individuals</td>\n",
       "      <td>224</td>\n",
       "    </tr>\n",
       "    <tr>\n",
       "      <th>1</th>\n",
       "      <td>1/1/2007</td>\n",
       "      <td>AK</td>\n",
       "      <td>AK-500</td>\n",
       "      <td>Anchorage CoC</td>\n",
       "      <td>Homeless Individuals</td>\n",
       "      <td>696</td>\n",
       "    </tr>\n",
       "    <tr>\n",
       "      <th>2</th>\n",
       "      <td>1/1/2007</td>\n",
       "      <td>AK</td>\n",
       "      <td>AK-500</td>\n",
       "      <td>Anchorage CoC</td>\n",
       "      <td>Homeless People in Families</td>\n",
       "      <td>278</td>\n",
       "    </tr>\n",
       "    <tr>\n",
       "      <th>3</th>\n",
       "      <td>1/1/2007</td>\n",
       "      <td>AK</td>\n",
       "      <td>AK-500</td>\n",
       "      <td>Anchorage CoC</td>\n",
       "      <td>Sheltered Chronically Homeless Individuals</td>\n",
       "      <td>187</td>\n",
       "    </tr>\n",
       "    <tr>\n",
       "      <th>4</th>\n",
       "      <td>1/1/2007</td>\n",
       "      <td>AK</td>\n",
       "      <td>AK-500</td>\n",
       "      <td>Anchorage CoC</td>\n",
       "      <td>Sheltered Homeless</td>\n",
       "      <td>842</td>\n",
       "    </tr>\n",
       "  </tbody>\n",
       "</table>\n",
       "</div>"
      ],
      "text/plain": [
       "       Year State CoC Number       CoC Name  \\\n",
       "0  1/1/2007    AK     AK-500  Anchorage CoC   \n",
       "1  1/1/2007    AK     AK-500  Anchorage CoC   \n",
       "2  1/1/2007    AK     AK-500  Anchorage CoC   \n",
       "3  1/1/2007    AK     AK-500  Anchorage CoC   \n",
       "4  1/1/2007    AK     AK-500  Anchorage CoC   \n",
       "\n",
       "                                     Measures Count  \n",
       "0            Chronically Homeless Individuals   224  \n",
       "1                        Homeless Individuals   696  \n",
       "2                 Homeless People in Families   278  \n",
       "3  Sheltered Chronically Homeless Individuals   187  \n",
       "4                          Sheltered Homeless   842  "
      ]
     },
     "execution_count": 3,
     "metadata": {},
     "output_type": "execute_result"
    }
   ],
   "source": [
    "df_hmless.head()"
   ]
  },
  {
   "cell_type": "code",
   "execution_count": 4,
   "metadata": {},
   "outputs": [
    {
     "data": {
      "text/html": [
       "<div>\n",
       "<style scoped>\n",
       "    .dataframe tbody tr th:only-of-type {\n",
       "        vertical-align: middle;\n",
       "    }\n",
       "\n",
       "    .dataframe tbody tr th {\n",
       "        vertical-align: top;\n",
       "    }\n",
       "\n",
       "    .dataframe thead th {\n",
       "        text-align: right;\n",
       "    }\n",
       "</style>\n",
       "<table border=\"1\" class=\"dataframe\">\n",
       "  <thead>\n",
       "    <tr style=\"text-align: right;\">\n",
       "      <th></th>\n",
       "      <th>Year</th>\n",
       "      <th>State</th>\n",
       "      <th>CoC Number</th>\n",
       "      <th>CoC Name</th>\n",
       "      <th>Measures</th>\n",
       "      <th>Count</th>\n",
       "    </tr>\n",
       "  </thead>\n",
       "  <tbody>\n",
       "    <tr>\n",
       "      <th>86524</th>\n",
       "      <td>1/1/2016</td>\n",
       "      <td>WY</td>\n",
       "      <td>WY-500</td>\n",
       "      <td>Wyoming Statewide CoC</td>\n",
       "      <td>Unsheltered Homeless Unaccompanied Youth (Unde...</td>\n",
       "      <td>7</td>\n",
       "    </tr>\n",
       "    <tr>\n",
       "      <th>86525</th>\n",
       "      <td>1/1/2016</td>\n",
       "      <td>WY</td>\n",
       "      <td>WY-500</td>\n",
       "      <td>Wyoming Statewide CoC</td>\n",
       "      <td>Unsheltered Homeless Veterans</td>\n",
       "      <td>31</td>\n",
       "    </tr>\n",
       "    <tr>\n",
       "      <th>86526</th>\n",
       "      <td>1/1/2016</td>\n",
       "      <td>WY</td>\n",
       "      <td>WY-500</td>\n",
       "      <td>Wyoming Statewide CoC</td>\n",
       "      <td>Unsheltered Parenting Youth (Under 25)</td>\n",
       "      <td>3</td>\n",
       "    </tr>\n",
       "    <tr>\n",
       "      <th>86527</th>\n",
       "      <td>1/1/2016</td>\n",
       "      <td>WY</td>\n",
       "      <td>WY-500</td>\n",
       "      <td>Wyoming Statewide CoC</td>\n",
       "      <td>Unsheltered Parenting Youth Age 18-24</td>\n",
       "      <td>3</td>\n",
       "    </tr>\n",
       "    <tr>\n",
       "      <th>86528</th>\n",
       "      <td>1/1/2016</td>\n",
       "      <td>WY</td>\n",
       "      <td>WY-500</td>\n",
       "      <td>Wyoming Statewide CoC</td>\n",
       "      <td>Unsheltered Parenting Youth Under 18</td>\n",
       "      <td>0</td>\n",
       "    </tr>\n",
       "  </tbody>\n",
       "</table>\n",
       "</div>"
      ],
      "text/plain": [
       "           Year State CoC Number               CoC Name  \\\n",
       "86524  1/1/2016    WY     WY-500  Wyoming Statewide CoC   \n",
       "86525  1/1/2016    WY     WY-500  Wyoming Statewide CoC   \n",
       "86526  1/1/2016    WY     WY-500  Wyoming Statewide CoC   \n",
       "86527  1/1/2016    WY     WY-500  Wyoming Statewide CoC   \n",
       "86528  1/1/2016    WY     WY-500  Wyoming Statewide CoC   \n",
       "\n",
       "                                                Measures Count  \n",
       "86524  Unsheltered Homeless Unaccompanied Youth (Unde...     7  \n",
       "86525                      Unsheltered Homeless Veterans    31  \n",
       "86526             Unsheltered Parenting Youth (Under 25)     3  \n",
       "86527              Unsheltered Parenting Youth Age 18-24     3  \n",
       "86528               Unsheltered Parenting Youth Under 18     0  "
      ]
     },
     "execution_count": 4,
     "metadata": {},
     "output_type": "execute_result"
    }
   ],
   "source": [
    "\n",
    "df_hmless.tail()"
   ]
  },
  {
   "cell_type": "code",
   "execution_count": 5,
   "metadata": {},
   "outputs": [],
   "source": [
    "df_hmless['Count'] = df_hmless['Count'].str.replace(',','').astype(np.int64)\n",
    "df_hmless[\"Year\"]=pd.to_datetime(df_hmless[\"Year\"])"
   ]
  },
  {
   "cell_type": "code",
   "execution_count": 6,
   "metadata": {},
   "outputs": [
    {
     "data": {
      "text/plain": [
       "Year          datetime64[ns]\n",
       "State                 object\n",
       "CoC Number            object\n",
       "CoC Name              object\n",
       "Measures              object\n",
       "Count                  int64\n",
       "dtype: object"
      ]
     },
     "execution_count": 6,
     "metadata": {},
     "output_type": "execute_result"
    }
   ],
   "source": [
    "df_hmless.dtypes"
   ]
  },
  {
   "cell_type": "code",
   "execution_count": 7,
   "metadata": {},
   "outputs": [
    {
     "data": {
      "text/html": [
       "<div>\n",
       "<style scoped>\n",
       "    .dataframe tbody tr th:only-of-type {\n",
       "        vertical-align: middle;\n",
       "    }\n",
       "\n",
       "    .dataframe tbody tr th {\n",
       "        vertical-align: top;\n",
       "    }\n",
       "\n",
       "    .dataframe thead th {\n",
       "        text-align: right;\n",
       "    }\n",
       "</style>\n",
       "<table border=\"1\" class=\"dataframe\">\n",
       "  <thead>\n",
       "    <tr style=\"text-align: right;\">\n",
       "      <th></th>\n",
       "      <th>Year</th>\n",
       "      <th>State</th>\n",
       "      <th>CoC Number</th>\n",
       "      <th>CoC Name</th>\n",
       "      <th>Measures</th>\n",
       "      <th>Count</th>\n",
       "    </tr>\n",
       "  </thead>\n",
       "  <tbody>\n",
       "    <tr>\n",
       "      <th>0</th>\n",
       "      <td>2007-01-01</td>\n",
       "      <td>AK</td>\n",
       "      <td>AK-500</td>\n",
       "      <td>Anchorage CoC</td>\n",
       "      <td>Chronically Homeless Individuals</td>\n",
       "      <td>224</td>\n",
       "    </tr>\n",
       "    <tr>\n",
       "      <th>1</th>\n",
       "      <td>2007-01-01</td>\n",
       "      <td>AK</td>\n",
       "      <td>AK-500</td>\n",
       "      <td>Anchorage CoC</td>\n",
       "      <td>Homeless Individuals</td>\n",
       "      <td>696</td>\n",
       "    </tr>\n",
       "    <tr>\n",
       "      <th>2</th>\n",
       "      <td>2007-01-01</td>\n",
       "      <td>AK</td>\n",
       "      <td>AK-500</td>\n",
       "      <td>Anchorage CoC</td>\n",
       "      <td>Homeless People in Families</td>\n",
       "      <td>278</td>\n",
       "    </tr>\n",
       "    <tr>\n",
       "      <th>3</th>\n",
       "      <td>2007-01-01</td>\n",
       "      <td>AK</td>\n",
       "      <td>AK-500</td>\n",
       "      <td>Anchorage CoC</td>\n",
       "      <td>Sheltered Chronically Homeless Individuals</td>\n",
       "      <td>187</td>\n",
       "    </tr>\n",
       "    <tr>\n",
       "      <th>4</th>\n",
       "      <td>2007-01-01</td>\n",
       "      <td>AK</td>\n",
       "      <td>AK-500</td>\n",
       "      <td>Anchorage CoC</td>\n",
       "      <td>Sheltered Homeless</td>\n",
       "      <td>842</td>\n",
       "    </tr>\n",
       "  </tbody>\n",
       "</table>\n",
       "</div>"
      ],
      "text/plain": [
       "        Year State CoC Number       CoC Name  \\\n",
       "0 2007-01-01    AK     AK-500  Anchorage CoC   \n",
       "1 2007-01-01    AK     AK-500  Anchorage CoC   \n",
       "2 2007-01-01    AK     AK-500  Anchorage CoC   \n",
       "3 2007-01-01    AK     AK-500  Anchorage CoC   \n",
       "4 2007-01-01    AK     AK-500  Anchorage CoC   \n",
       "\n",
       "                                     Measures  Count  \n",
       "0            Chronically Homeless Individuals    224  \n",
       "1                        Homeless Individuals    696  \n",
       "2                 Homeless People in Families    278  \n",
       "3  Sheltered Chronically Homeless Individuals    187  \n",
       "4                          Sheltered Homeless    842  "
      ]
     },
     "execution_count": 7,
     "metadata": {},
     "output_type": "execute_result"
    }
   ],
   "source": [
    "newdf=df_hmless.copy()\n",
    "newdf.head()"
   ]
  },
  {
   "cell_type": "code",
   "execution_count": 8,
   "metadata": {},
   "outputs": [],
   "source": [
    "newdf.drop([\"CoC Number\", \"CoC Name\"], axis =1, inplace=True)"
   ]
  },
  {
   "cell_type": "code",
   "execution_count": 9,
   "metadata": {},
   "outputs": [
    {
     "data": {
      "text/html": [
       "<div>\n",
       "<style scoped>\n",
       "    .dataframe tbody tr th:only-of-type {\n",
       "        vertical-align: middle;\n",
       "    }\n",
       "\n",
       "    .dataframe tbody tr th {\n",
       "        vertical-align: top;\n",
       "    }\n",
       "\n",
       "    .dataframe thead th {\n",
       "        text-align: right;\n",
       "    }\n",
       "</style>\n",
       "<table border=\"1\" class=\"dataframe\">\n",
       "  <thead>\n",
       "    <tr style=\"text-align: right;\">\n",
       "      <th></th>\n",
       "      <th>Year</th>\n",
       "      <th>State</th>\n",
       "      <th>Measures</th>\n",
       "      <th>Count</th>\n",
       "    </tr>\n",
       "  </thead>\n",
       "  <tbody>\n",
       "    <tr>\n",
       "      <th>0</th>\n",
       "      <td>2007-01-01</td>\n",
       "      <td>AK</td>\n",
       "      <td>Chronically Homeless Individuals</td>\n",
       "      <td>224</td>\n",
       "    </tr>\n",
       "    <tr>\n",
       "      <th>1</th>\n",
       "      <td>2007-01-01</td>\n",
       "      <td>AK</td>\n",
       "      <td>Homeless Individuals</td>\n",
       "      <td>696</td>\n",
       "    </tr>\n",
       "    <tr>\n",
       "      <th>2</th>\n",
       "      <td>2007-01-01</td>\n",
       "      <td>AK</td>\n",
       "      <td>Homeless People in Families</td>\n",
       "      <td>278</td>\n",
       "    </tr>\n",
       "  </tbody>\n",
       "</table>\n",
       "</div>"
      ],
      "text/plain": [
       "        Year State                          Measures  Count\n",
       "0 2007-01-01    AK  Chronically Homeless Individuals    224\n",
       "1 2007-01-01    AK              Homeless Individuals    696\n",
       "2 2007-01-01    AK       Homeless People in Families    278"
      ]
     },
     "execution_count": 9,
     "metadata": {},
     "output_type": "execute_result"
    }
   ],
   "source": [
    "newdf.head(3)"
   ]
  },
  {
   "cell_type": "code",
   "execution_count": 10,
   "metadata": {},
   "outputs": [
    {
     "data": {
      "image/png": "[encoded data removed]",
      "text/plain": [
       "<Figure size 1080x720 with 1 Axes>"
      ]
     },
     "metadata": {
      "needs_background": "dark"
     },
     "output_type": "display_data"
    }
   ],
   "source": [
    "# Total Count by state\n",
    "newdf.groupby(\"State\")[\"Count\"].sum().sort_values(ascending =False).plot.bar(title = \"Total Count by State\", colormap =\"summer\", figsize=(15,10))\n",
    "\n",
    "plt.xlabel(\"States\", fontdict ={\"fontsize\": 28})\n",
    "plt.ylabel(\"Number of Homeless Count\",fontdict={\"fontsize\": 28} )\n",
    "plt.title(\"Total Number of Homeless People By States (2007-2016)\", fontdict={'fontsize':28})\n",
    "plt.savefig(\"Image_zha/Homeless_count1.png\")\n",
    "plt.show()\n"
   ]
  },
  {
   "cell_type": "code",
   "execution_count": 11,
   "metadata": {},
   "outputs": [
    {
     "data": {
      "image/png": "[encoded data removed]",
      "text/plain": [
       "<Figure size 720x1080 with 1 Axes>"
      ]
     },
     "metadata": {
      "needs_background": "dark"
     },
     "output_type": "display_data"
    }
   ],
   "source": [
    "#Total count by mearsure\n",
    "newdf.groupby(\"Measures\")[\"Count\"].sum().sort_values().plot(kind='barh', title ='Total Count by Measure', figsize =(10,15))\n",
    "plt.xlabel(\"Count\", fontdict ={\"fontsize\": 28})\n",
    "# plt.ylabel(\"Number of Homeless Count\",fontdict={\"fontsize\": 28} )\n",
    "# plt.title(\"Total Number of Homeless People According to States (2007-2016)\", fontdict={'fontsize':28})\n",
    "plt.savefig(\"Image_zha/Measure_count.png\")\n",
    "plt.show()"
   ]
  },
  {
   "cell_type": "code",
   "execution_count": 13,
   "metadata": {},
   "outputs": [
    {
     "data": {
      "image/png": "[encoded data removed]",
      "text/plain": [
       "<Figure size 720x720 with 1 Axes>"
      ]
     },
     "metadata": {
      "needs_background": "dark"
     },
     "output_type": "display_data"
    }
   ],
   "source": [
    "#Total count by year\n",
    "newdf.groupby(\"Year\")[\"Count\"].sum().plot(y='Count', kind = \"line\", title =\"Total Count by Year\", colormap=\"summer\",\\\n",
    "                                         figsize=(10,10))\n",
    "plt.grid()\n",
    "plt.savefig(\"Image_zha/Total_count_by_year.png\")\n",
    "plt.show()"
   ]
  },
  {
   "cell_type": "code",
   "execution_count": 14,
   "metadata": {},
   "outputs": [
    {
     "data": {
      "text/plain": [
       "pandas.core.series.Series"
      ]
     },
     "execution_count": 14,
     "metadata": {},
     "output_type": "execute_result"
    }
   ],
   "source": [
    "#explore CA homeless with measures\n",
    "califa= newdf[newdf.State==\"CA\"]\n",
    "ca_series= califa.groupby([\"Year\", \"Measures\"])[\"Count\"].sum()\n",
    "type(ca_series)\n"
   ]
  },
  {
   "cell_type": "code",
   "execution_count": 15,
   "metadata": {},
   "outputs": [
    {
     "data": {
      "image/png": "[encoded data removed]",
      "text/plain": [
       "<Figure size 2160x2160 with 1 Axes>"
      ]
     },
     "metadata": {
      "needs_background": "dark"
     },
     "output_type": "display_data"
    }
   ],
   "source": [
    "califa.groupby([\"Year\", \"Measures\"])[\"Count\"].sum().unstack().plot.bar(stacked=True, title = \"Years Stacked by Measures\", colormap ='tab20', figsize=(30,30), fontsize=24),\n",
    "#plt.grid()\n",
    "plt.savefig(\"Image_zha/CA_Total_count_by_year_measure.png\")\n",
    "plt.show()"
   ]
  },
  {
   "cell_type": "code",
   "execution_count": 16,
   "metadata": {},
   "outputs": [
    {
     "data": {
      "text/html": [
       "<div>\n",
       "<style scoped>\n",
       "    .dataframe tbody tr th:only-of-type {\n",
       "        vertical-align: middle;\n",
       "    }\n",
       "\n",
       "    .dataframe tbody tr th {\n",
       "        vertical-align: top;\n",
       "    }\n",
       "\n",
       "    .dataframe thead th {\n",
       "        text-align: right;\n",
       "    }\n",
       "</style>\n",
       "<table border=\"1\" class=\"dataframe\">\n",
       "  <thead>\n",
       "    <tr style=\"text-align: right;\">\n",
       "      <th></th>\n",
       "      <th>RegionID</th>\n",
       "      <th>SizeRank</th>\n",
       "      <th>RegionName</th>\n",
       "      <th>RegionType</th>\n",
       "      <th>StateName</th>\n",
       "      <th>2017-10-31</th>\n",
       "      <th>2017-11-30</th>\n",
       "      <th>2017-12-31</th>\n",
       "      <th>2018-01-31</th>\n",
       "      <th>2018-02-28</th>\n",
       "      <th>...</th>\n",
       "      <th>2019-09-30</th>\n",
       "      <th>2019-10-31</th>\n",
       "      <th>2019-11-30</th>\n",
       "      <th>2019-12-31</th>\n",
       "      <th>2020-01-31</th>\n",
       "      <th>2020-02-29</th>\n",
       "      <th>2020-03-31</th>\n",
       "      <th>2020-04-30</th>\n",
       "      <th>2020-05-31</th>\n",
       "      <th>2020-06-30</th>\n",
       "    </tr>\n",
       "  </thead>\n",
       "  <tbody>\n",
       "    <tr>\n",
       "      <th>0</th>\n",
       "      <td>102001</td>\n",
       "      <td>0</td>\n",
       "      <td>United States</td>\n",
       "      <td>Country</td>\n",
       "      <td>NaN</td>\n",
       "      <td>275000.0</td>\n",
       "      <td>274345.0</td>\n",
       "      <td>272863.0</td>\n",
       "      <td>272123.0</td>\n",
       "      <td>272398.0</td>\n",
       "      <td>...</td>\n",
       "      <td>318225.0</td>\n",
       "      <td>314475.0</td>\n",
       "      <td>309475.0</td>\n",
       "      <td>305475.0</td>\n",
       "      <td>301975.0</td>\n",
       "      <td>299738.0</td>\n",
       "      <td>303488.0</td>\n",
       "      <td>308713.0</td>\n",
       "      <td>316438.0</td>\n",
       "      <td>326175.0</td>\n",
       "    </tr>\n",
       "    <tr>\n",
       "      <th>1</th>\n",
       "      <td>394913</td>\n",
       "      <td>1</td>\n",
       "      <td>New York, NY</td>\n",
       "      <td>Msa</td>\n",
       "      <td>NY</td>\n",
       "      <td>500900.0</td>\n",
       "      <td>500450.0</td>\n",
       "      <td>500267.0</td>\n",
       "      <td>500200.0</td>\n",
       "      <td>506225.0</td>\n",
       "      <td>...</td>\n",
       "      <td>568974.0</td>\n",
       "      <td>567499.0</td>\n",
       "      <td>567499.0</td>\n",
       "      <td>569000.0</td>\n",
       "      <td>569000.0</td>\n",
       "      <td>570500.0</td>\n",
       "      <td>577750.0</td>\n",
       "      <td>584250.0</td>\n",
       "      <td>591750.0</td>\n",
       "      <td>598000.0</td>\n",
       "    </tr>\n",
       "    <tr>\n",
       "      <th>2</th>\n",
       "      <td>753899</td>\n",
       "      <td>2</td>\n",
       "      <td>Los Angeles-Long Beach-Anaheim, CA</td>\n",
       "      <td>Msa</td>\n",
       "      <td>CA</td>\n",
       "      <td>849999.0</td>\n",
       "      <td>849999.0</td>\n",
       "      <td>852999.0</td>\n",
       "      <td>854750.0</td>\n",
       "      <td>862000.0</td>\n",
       "      <td>...</td>\n",
       "      <td>936225.0</td>\n",
       "      <td>939000.0</td>\n",
       "      <td>942725.0</td>\n",
       "      <td>948197.0</td>\n",
       "      <td>959669.0</td>\n",
       "      <td>982169.0</td>\n",
       "      <td>1007194.0</td>\n",
       "      <td>1010972.0</td>\n",
       "      <td>1014750.0</td>\n",
       "      <td>1027000.0</td>\n",
       "    </tr>\n",
       "    <tr>\n",
       "      <th>3</th>\n",
       "      <td>394463</td>\n",
       "      <td>3</td>\n",
       "      <td>Chicago, IL</td>\n",
       "      <td>Msa</td>\n",
       "      <td>IL</td>\n",
       "      <td>324900.0</td>\n",
       "      <td>321400.0</td>\n",
       "      <td>315600.0</td>\n",
       "      <td>312950.0</td>\n",
       "      <td>313975.0</td>\n",
       "      <td>...</td>\n",
       "      <td>345175.0</td>\n",
       "      <td>338675.0</td>\n",
       "      <td>331200.0</td>\n",
       "      <td>324927.0</td>\n",
       "      <td>319725.0</td>\n",
       "      <td>320100.0</td>\n",
       "      <td>327075.0</td>\n",
       "      <td>334600.0</td>\n",
       "      <td>343325.0</td>\n",
       "      <td>350700.0</td>\n",
       "    </tr>\n",
       "    <tr>\n",
       "      <th>4</th>\n",
       "      <td>394514</td>\n",
       "      <td>4</td>\n",
       "      <td>Dallas-Fort Worth, TX</td>\n",
       "      <td>Msa</td>\n",
       "      <td>TX</td>\n",
       "      <td>345000.0</td>\n",
       "      <td>343575.0</td>\n",
       "      <td>344017.0</td>\n",
       "      <td>344763.0</td>\n",
       "      <td>347238.0</td>\n",
       "      <td>...</td>\n",
       "      <td>350373.0</td>\n",
       "      <td>346870.0</td>\n",
       "      <td>345123.0</td>\n",
       "      <td>342998.0</td>\n",
       "      <td>340498.0</td>\n",
       "      <td>339225.0</td>\n",
       "      <td>339700.0</td>\n",
       "      <td>339950.0</td>\n",
       "      <td>343700.0</td>\n",
       "      <td>348724.0</td>\n",
       "    </tr>\n",
       "  </tbody>\n",
       "</table>\n",
       "<p>5 rows × 38 columns</p>\n",
       "</div>"
      ],
      "text/plain": [
       "   RegionID  SizeRank                          RegionName RegionType  \\\n",
       "0    102001         0                       United States    Country   \n",
       "1    394913         1                        New York, NY        Msa   \n",
       "2    753899         2  Los Angeles-Long Beach-Anaheim, CA        Msa   \n",
       "3    394463         3                         Chicago, IL        Msa   \n",
       "4    394514         4               Dallas-Fort Worth, TX        Msa   \n",
       "\n",
       "  StateName  2017-10-31  2017-11-30  2017-12-31  2018-01-31  2018-02-28  ...  \\\n",
       "0       NaN    275000.0    274345.0    272863.0    272123.0    272398.0  ...   \n",
       "1        NY    500900.0    500450.0    500267.0    500200.0    506225.0  ...   \n",
       "2        CA    849999.0    849999.0    852999.0    854750.0    862000.0  ...   \n",
       "3        IL    324900.0    321400.0    315600.0    312950.0    313975.0  ...   \n",
       "4        TX    345000.0    343575.0    344017.0    344763.0    347238.0  ...   \n",
       "\n",
       "   2019-09-30  2019-10-31  2019-11-30  2019-12-31  2020-01-31  2020-02-29  \\\n",
       "0    318225.0    314475.0    309475.0    305475.0    301975.0    299738.0   \n",
       "1    568974.0    567499.0    567499.0    569000.0    569000.0    570500.0   \n",
       "2    936225.0    939000.0    942725.0    948197.0    959669.0    982169.0   \n",
       "3    345175.0    338675.0    331200.0    324927.0    319725.0    320100.0   \n",
       "4    350373.0    346870.0    345123.0    342998.0    340498.0    339225.0   \n",
       "\n",
       "   2020-03-31  2020-04-30  2020-05-31  2020-06-30  \n",
       "0    303488.0    308713.0    316438.0    326175.0  \n",
       "1    577750.0    584250.0    591750.0    598000.0  \n",
       "2   1007194.0   1010972.0   1014750.0   1027000.0  \n",
       "3    327075.0    334600.0    343325.0    350700.0  \n",
       "4    339700.0    339950.0    343700.0    348724.0  \n",
       "\n",
       "[5 rows x 38 columns]"
      ]
     },
     "execution_count": 16,
     "metadata": {},
     "output_type": "execute_result"
    }
   ],
   "source": [
    "sfh_df = pd.read_csv(\"Data/sfh_price.csv\")\n",
    "sfh_df.head()"
   ]
  },
  {
   "cell_type": "code",
   "execution_count": 17,
   "metadata": {},
   "outputs": [],
   "source": [
    "sfh_df[\"avg_2017\"]= (sfh_df[\"2017-10-31\"]+sfh_df[\"2017-11-30\"]+sfh_df[\"2017-12-31\"])/3"
   ]
  },
  {
   "cell_type": "code",
   "execution_count": 18,
   "metadata": {},
   "outputs": [],
   "source": [
    "sfh_ndf= sfh_df.groupby(\"StateName\", as_index=False).mean()"
   ]
  },
  {
   "cell_type": "code",
   "execution_count": 19,
   "metadata": {},
   "outputs": [
    {
     "data": {
      "text/html": [
       "<div>\n",
       "<style scoped>\n",
       "    .dataframe tbody tr th:only-of-type {\n",
       "        vertical-align: middle;\n",
       "    }\n",
       "\n",
       "    .dataframe tbody tr th {\n",
       "        vertical-align: top;\n",
       "    }\n",
       "\n",
       "    .dataframe thead th {\n",
       "        text-align: right;\n",
       "    }\n",
       "</style>\n",
       "<table border=\"1\" class=\"dataframe\">\n",
       "  <thead>\n",
       "    <tr style=\"text-align: right;\">\n",
       "      <th></th>\n",
       "      <th>State</th>\n",
       "      <th>2017</th>\n",
       "    </tr>\n",
       "  </thead>\n",
       "  <tbody>\n",
       "    <tr>\n",
       "      <th>0</th>\n",
       "      <td>AL</td>\n",
       "      <td>213555.000000</td>\n",
       "    </tr>\n",
       "    <tr>\n",
       "      <th>1</th>\n",
       "      <td>AR</td>\n",
       "      <td>180400.000000</td>\n",
       "    </tr>\n",
       "    <tr>\n",
       "      <th>2</th>\n",
       "      <td>AZ</td>\n",
       "      <td>299368.333333</td>\n",
       "    </tr>\n",
       "    <tr>\n",
       "      <th>3</th>\n",
       "      <td>CA</td>\n",
       "      <td>587259.666667</td>\n",
       "    </tr>\n",
       "    <tr>\n",
       "      <th>4</th>\n",
       "      <td>CO</td>\n",
       "      <td>449797.533333</td>\n",
       "    </tr>\n",
       "  </tbody>\n",
       "</table>\n",
       "</div>"
      ],
      "text/plain": [
       "  State           2017\n",
       "0    AL  213555.000000\n",
       "1    AR  180400.000000\n",
       "2    AZ  299368.333333\n",
       "3    CA  587259.666667\n",
       "4    CO  449797.533333"
      ]
     },
     "execution_count": 19,
     "metadata": {},
     "output_type": "execute_result"
    }
   ],
   "source": [
    "sfh_price_cleaned = sfh_ndf[[\"StateName\", \"avg_2017\"]]\n",
    "\n",
    "sfh_price_renamed=sfh_price_cleaned.rename(columns={\n",
    "    \"StateName\": \"State\",\n",
    "    \"avg_2017\": \"2017\"\n",
    "})\n",
    "sfh_price_renamed.head()"
   ]
  },
  {
   "cell_type": "code",
   "execution_count": 20,
   "metadata": {},
   "outputs": [
    {
     "name": "stdout",
     "output_type": "stream",
     "text": [
      "<class 'pandas.core.frame.DataFrame'>\n",
      "RangeIndex: 402 entries, 0 to 401\n",
      "Data columns (total 45 columns):\n",
      "CoC Number                                                           400 non-null object\n",
      "CoC Name                                                             400 non-null object\n",
      "State                                                                399 non-null object\n",
      "Total Homeless, 2017                                                 400 non-null float64\n",
      "Sheltered Homeless, 2017                                             400 non-null float64\n",
      "Unsheltered Homeless, 2017                                           400 non-null float64\n",
      "Homeless Individuals, 2017                                           400 non-null float64\n",
      "Sheltered Homeless Individuals, 2017                                 400 non-null float64\n",
      "Unsheltered Homeless Individuals, 2017                               400 non-null float64\n",
      "Homeless People in Families, 2017                                    400 non-null float64\n",
      "Sheltered Homeless People in Families, 2017                          400 non-null float64\n",
      "Unsheltered Homeless People in Families, 2017                        400 non-null float64\n",
      "Chronically Homeless, 2017                                           400 non-null float64\n",
      "Sheltered Chronically Homeless, 2017                                 400 non-null float64\n",
      "Unsheltered Chronically Homeless, 2017                               400 non-null float64\n",
      "Chronically Homeless Individuals, 2017                               400 non-null float64\n",
      "Sheltered Chronically Homeless Individuals, 2017                     400 non-null float64\n",
      "Unsheltered Chronically Homeless Individuals, 2017                   400 non-null float64\n",
      "Chronically Homeless People in Families, 2017                        400 non-null float64\n",
      "Sheltered Chronically Homeless People in Families, 2017              400 non-null float64\n",
      "Unsheltered Chronically Homeless People in Families, 2017            400 non-null float64\n",
      "Homeless Veterans, 2017                                              400 non-null float64\n",
      "Sheltered Homeless Veterans, 2017                                    400 non-null float64\n",
      "Unsheltered Homeless Veterans, 2017                                  400 non-null float64\n",
      "Homeless Unaccompanied Youth (Under 25), 2017                        400 non-null float64\n",
      "Sheltered Homeless Unaccompanied Youth (Under 25), 2017              400 non-null float64\n",
      "Unsheltered Homeless Unaccompanied Youth (Under 25), 2017            400 non-null float64\n",
      "Homeless Unaccompanied Children (Under 18), 2017                     400 non-null float64\n",
      "Sheltered Homeless Unaccompanied Children (Under 18), 2017           400 non-null float64\n",
      "Unsheltered Homeless Unaccompanied Children (Under 18), 2017         400 non-null float64\n",
      "Homeless Unaccompanied Young Adults (Age 18-24), 2017                400 non-null float64\n",
      "Sheltered Homeless Unaccompanied Young Adults (Age 18-24), 2017      400 non-null float64\n",
      "Unsheltered Homeless Unaccompanied Young Adults (Age 18-24), 2017    400 non-null float64\n",
      "Parenting Youth (Under 25), 2017                                     400 non-null float64\n",
      "Sheltered Parenting Youth (Under 25), 2017                           400 non-null float64\n",
      "Unsheltered Parenting Youth (Under 25), 2017                         400 non-null float64\n",
      "Parenting Youth Under 18, 2017                                       400 non-null float64\n",
      "Sheltered Parenting Youth Under 18, 2017                             400 non-null float64\n",
      "Unsheltered Parenting Youth Under 18, 2017                           400 non-null float64\n",
      "Parenting Youth Age 18-24, 2017                                      400 non-null float64\n",
      "Sheltered Parenting Youth Age 18-24, 2017                            400 non-null float64\n",
      "Unsheltered Parenting Youth Age 18-24, 2017                          400 non-null float64\n",
      "Children of Parenting Youth, 2017                                    400 non-null float64\n",
      "Sheltered Children of Parenting Youth, 2017                          400 non-null float64\n",
      "Unsheltered Children of Parenting Youth, 2017                        400 non-null float64\n",
      "dtypes: float64(42), object(3)\n",
      "memory usage: 141.5+ KB\n"
     ]
    }
   ],
   "source": [
    "homeless_2017 = pd.read_excel(\"Data/2017_hmls.xlsx\")\n",
    "homeless_2017.info()                         "
   ]
  },
  {
   "cell_type": "code",
   "execution_count": 21,
   "metadata": {},
   "outputs": [
    {
     "data": {
      "text/html": [
       "<div>\n",
       "<style scoped>\n",
       "    .dataframe tbody tr th:only-of-type {\n",
       "        vertical-align: middle;\n",
       "    }\n",
       "\n",
       "    .dataframe tbody tr th {\n",
       "        vertical-align: top;\n",
       "    }\n",
       "\n",
       "    .dataframe thead th {\n",
       "        text-align: right;\n",
       "    }\n",
       "</style>\n",
       "<table border=\"1\" class=\"dataframe\">\n",
       "  <thead>\n",
       "    <tr style=\"text-align: right;\">\n",
       "      <th></th>\n",
       "      <th>State</th>\n",
       "      <th>Total Homeless, 2017</th>\n",
       "      <th>Sheltered Homeless, 2017</th>\n",
       "      <th>Unsheltered Homeless, 2017</th>\n",
       "      <th>Homeless Individuals, 2017</th>\n",
       "      <th>Sheltered Homeless Individuals, 2017</th>\n",
       "      <th>Unsheltered Homeless Individuals, 2017</th>\n",
       "      <th>Homeless People in Families, 2017</th>\n",
       "      <th>Sheltered Homeless People in Families, 2017</th>\n",
       "      <th>Unsheltered Homeless People in Families, 2017</th>\n",
       "      <th>...</th>\n",
       "      <th>Unsheltered Parenting Youth (Under 25), 2017</th>\n",
       "      <th>Parenting Youth Under 18, 2017</th>\n",
       "      <th>Sheltered Parenting Youth Under 18, 2017</th>\n",
       "      <th>Unsheltered Parenting Youth Under 18, 2017</th>\n",
       "      <th>Parenting Youth Age 18-24, 2017</th>\n",
       "      <th>Sheltered Parenting Youth Age 18-24, 2017</th>\n",
       "      <th>Unsheltered Parenting Youth Age 18-24, 2017</th>\n",
       "      <th>Children of Parenting Youth, 2017</th>\n",
       "      <th>Sheltered Children of Parenting Youth, 2017</th>\n",
       "      <th>Unsheltered Children of Parenting Youth, 2017</th>\n",
       "    </tr>\n",
       "  </thead>\n",
       "  <tbody>\n",
       "    <tr>\n",
       "      <th>0</th>\n",
       "      <td>AK</td>\n",
       "      <td>1845.0</td>\n",
       "      <td>1551.0</td>\n",
       "      <td>294.0</td>\n",
       "      <td>1354.0</td>\n",
       "      <td>1060.0</td>\n",
       "      <td>294.0</td>\n",
       "      <td>491.0</td>\n",
       "      <td>491.0</td>\n",
       "      <td>0.0</td>\n",
       "      <td>...</td>\n",
       "      <td>0.0</td>\n",
       "      <td>0.0</td>\n",
       "      <td>0.0</td>\n",
       "      <td>0.0</td>\n",
       "      <td>22.0</td>\n",
       "      <td>22.0</td>\n",
       "      <td>0.0</td>\n",
       "      <td>39.0</td>\n",
       "      <td>39.0</td>\n",
       "      <td>0.0</td>\n",
       "    </tr>\n",
       "    <tr>\n",
       "      <th>1</th>\n",
       "      <td>AL</td>\n",
       "      <td>3793.0</td>\n",
       "      <td>2656.0</td>\n",
       "      <td>1137.0</td>\n",
       "      <td>2985.0</td>\n",
       "      <td>1950.0</td>\n",
       "      <td>1035.0</td>\n",
       "      <td>808.0</td>\n",
       "      <td>706.0</td>\n",
       "      <td>102.0</td>\n",
       "      <td>...</td>\n",
       "      <td>3.0</td>\n",
       "      <td>6.0</td>\n",
       "      <td>6.0</td>\n",
       "      <td>0.0</td>\n",
       "      <td>23.0</td>\n",
       "      <td>20.0</td>\n",
       "      <td>3.0</td>\n",
       "      <td>39.0</td>\n",
       "      <td>35.0</td>\n",
       "      <td>4.0</td>\n",
       "    </tr>\n",
       "    <tr>\n",
       "      <th>2</th>\n",
       "      <td>AR</td>\n",
       "      <td>2467.0</td>\n",
       "      <td>1273.0</td>\n",
       "      <td>1194.0</td>\n",
       "      <td>2068.0</td>\n",
       "      <td>937.0</td>\n",
       "      <td>1131.0</td>\n",
       "      <td>399.0</td>\n",
       "      <td>336.0</td>\n",
       "      <td>63.0</td>\n",
       "      <td>...</td>\n",
       "      <td>0.0</td>\n",
       "      <td>0.0</td>\n",
       "      <td>0.0</td>\n",
       "      <td>0.0</td>\n",
       "      <td>10.0</td>\n",
       "      <td>10.0</td>\n",
       "      <td>0.0</td>\n",
       "      <td>13.0</td>\n",
       "      <td>13.0</td>\n",
       "      <td>0.0</td>\n",
       "    </tr>\n",
       "    <tr>\n",
       "      <th>3</th>\n",
       "      <td>AZ</td>\n",
       "      <td>8947.0</td>\n",
       "      <td>5781.0</td>\n",
       "      <td>3166.0</td>\n",
       "      <td>6488.0</td>\n",
       "      <td>3423.0</td>\n",
       "      <td>3065.0</td>\n",
       "      <td>2459.0</td>\n",
       "      <td>2358.0</td>\n",
       "      <td>101.0</td>\n",
       "      <td>...</td>\n",
       "      <td>0.0</td>\n",
       "      <td>0.0</td>\n",
       "      <td>0.0</td>\n",
       "      <td>0.0</td>\n",
       "      <td>81.0</td>\n",
       "      <td>81.0</td>\n",
       "      <td>0.0</td>\n",
       "      <td>112.0</td>\n",
       "      <td>112.0</td>\n",
       "      <td>0.0</td>\n",
       "    </tr>\n",
       "    <tr>\n",
       "      <th>4</th>\n",
       "      <td>CA</td>\n",
       "      <td>134278.0</td>\n",
       "      <td>42636.0</td>\n",
       "      <td>91642.0</td>\n",
       "      <td>112756.0</td>\n",
       "      <td>25022.0</td>\n",
       "      <td>87734.0</td>\n",
       "      <td>21522.0</td>\n",
       "      <td>17614.0</td>\n",
       "      <td>3908.0</td>\n",
       "      <td>...</td>\n",
       "      <td>234.0</td>\n",
       "      <td>16.0</td>\n",
       "      <td>11.0</td>\n",
       "      <td>5.0</td>\n",
       "      <td>874.0</td>\n",
       "      <td>645.0</td>\n",
       "      <td>229.0</td>\n",
       "      <td>1058.0</td>\n",
       "      <td>782.0</td>\n",
       "      <td>276.0</td>\n",
       "    </tr>\n",
       "  </tbody>\n",
       "</table>\n",
       "<p>5 rows × 43 columns</p>\n",
       "</div>"
      ],
      "text/plain": [
       "  State  Total Homeless, 2017  Sheltered Homeless, 2017  \\\n",
       "0    AK                1845.0                    1551.0   \n",
       "1    AL                3793.0                    2656.0   \n",
       "2    AR                2467.0                    1273.0   \n",
       "3    AZ                8947.0                    5781.0   \n",
       "4    CA              134278.0                   42636.0   \n",
       "\n",
       "   Unsheltered Homeless, 2017  Homeless Individuals, 2017  \\\n",
       "0                       294.0                      1354.0   \n",
       "1                      1137.0                      2985.0   \n",
       "2                      1194.0                      2068.0   \n",
       "3                      3166.0                      6488.0   \n",
       "4                     91642.0                    112756.0   \n",
       "\n",
       "   Sheltered Homeless Individuals, 2017  \\\n",
       "0                                1060.0   \n",
       "1                                1950.0   \n",
       "2                                 937.0   \n",
       "3                                3423.0   \n",
       "4                               25022.0   \n",
       "\n",
       "   Unsheltered Homeless Individuals, 2017  Homeless People in Families, 2017  \\\n",
       "0                                   294.0                              491.0   \n",
       "1                                  1035.0                              808.0   \n",
       "2                                  1131.0                              399.0   \n",
       "3                                  3065.0                             2459.0   \n",
       "4                                 87734.0                            21522.0   \n",
       "\n",
       "   Sheltered Homeless People in Families, 2017  \\\n",
       "0                                        491.0   \n",
       "1                                        706.0   \n",
       "2                                        336.0   \n",
       "3                                       2358.0   \n",
       "4                                      17614.0   \n",
       "\n",
       "   Unsheltered Homeless People in Families, 2017  ...  \\\n",
       "0                                            0.0  ...   \n",
       "1                                          102.0  ...   \n",
       "2                                           63.0  ...   \n",
       "3                                          101.0  ...   \n",
       "4                                         3908.0  ...   \n",
       "\n",
       "   Unsheltered Parenting Youth (Under 25), 2017  \\\n",
       "0                                           0.0   \n",
       "1                                           3.0   \n",
       "2                                           0.0   \n",
       "3                                           0.0   \n",
       "4                                         234.0   \n",
       "\n",
       "   Parenting Youth Under 18, 2017  Sheltered Parenting Youth Under 18, 2017  \\\n",
       "0                             0.0                                       0.0   \n",
       "1                             6.0                                       6.0   \n",
       "2                             0.0                                       0.0   \n",
       "3                             0.0                                       0.0   \n",
       "4                            16.0                                      11.0   \n",
       "\n",
       "   Unsheltered Parenting Youth Under 18, 2017  \\\n",
       "0                                         0.0   \n",
       "1                                         0.0   \n",
       "2                                         0.0   \n",
       "3                                         0.0   \n",
       "4                                         5.0   \n",
       "\n",
       "   Parenting Youth Age 18-24, 2017  Sheltered Parenting Youth Age 18-24, 2017  \\\n",
       "0                             22.0                                       22.0   \n",
       "1                             23.0                                       20.0   \n",
       "2                             10.0                                       10.0   \n",
       "3                             81.0                                       81.0   \n",
       "4                            874.0                                      645.0   \n",
       "\n",
       "   Unsheltered Parenting Youth Age 18-24, 2017  \\\n",
       "0                                          0.0   \n",
       "1                                          3.0   \n",
       "2                                          0.0   \n",
       "3                                          0.0   \n",
       "4                                        229.0   \n",
       "\n",
       "   Children of Parenting Youth, 2017  \\\n",
       "0                               39.0   \n",
       "1                               39.0   \n",
       "2                               13.0   \n",
       "3                              112.0   \n",
       "4                             1058.0   \n",
       "\n",
       "   Sheltered Children of Parenting Youth, 2017  \\\n",
       "0                                         39.0   \n",
       "1                                         35.0   \n",
       "2                                         13.0   \n",
       "3                                        112.0   \n",
       "4                                        782.0   \n",
       "\n",
       "   Unsheltered Children of Parenting Youth, 2017  \n",
       "0                                            0.0  \n",
       "1                                            4.0  \n",
       "2                                            0.0  \n",
       "3                                            0.0  \n",
       "4                                          276.0  \n",
       "\n",
       "[5 rows x 43 columns]"
      ]
     },
     "execution_count": 21,
     "metadata": {},
     "output_type": "execute_result"
    }
   ],
   "source": [
    "hmls_2017_group_df= homeless_2017.groupby(\"State\", as_index=False).sum()\n",
    "hmls_2017_group_df.head()"
   ]
  },
  {
   "cell_type": "code",
   "execution_count": 22,
   "metadata": {},
   "outputs": [],
   "source": [
    "hmls_2017_final_df = hmls_2017_group_df[[\"State\",\"Total Homeless, 2017\" ]]"
   ]
  },
  {
   "cell_type": "code",
   "execution_count": 23,
   "metadata": {},
   "outputs": [
    {
     "data": {
      "text/html": [
       "<div>\n",
       "<style scoped>\n",
       "    .dataframe tbody tr th:only-of-type {\n",
       "        vertical-align: middle;\n",
       "    }\n",
       "\n",
       "    .dataframe tbody tr th {\n",
       "        vertical-align: top;\n",
       "    }\n",
       "\n",
       "    .dataframe thead th {\n",
       "        text-align: right;\n",
       "    }\n",
       "</style>\n",
       "<table border=\"1\" class=\"dataframe\">\n",
       "  <thead>\n",
       "    <tr style=\"text-align: right;\">\n",
       "      <th></th>\n",
       "      <th>state</th>\n",
       "      <th>Count</th>\n",
       "      <th>2017</th>\n",
       "    </tr>\n",
       "  </thead>\n",
       "  <tbody>\n",
       "    <tr>\n",
       "      <th>3</th>\n",
       "      <td>CA</td>\n",
       "      <td>134278.0</td>\n",
       "      <td>587259.666667</td>\n",
       "    </tr>\n",
       "    <tr>\n",
       "      <th>27</th>\n",
       "      <td>NY</td>\n",
       "      <td>89503.0</td>\n",
       "      <td>243951.000000</td>\n",
       "    </tr>\n",
       "    <tr>\n",
       "      <th>7</th>\n",
       "      <td>FL</td>\n",
       "      <td>32190.0</td>\n",
       "      <td>301367.333333</td>\n",
       "    </tr>\n",
       "    <tr>\n",
       "      <th>35</th>\n",
       "      <td>TX</td>\n",
       "      <td>23548.0</td>\n",
       "      <td>282727.791667</td>\n",
       "    </tr>\n",
       "    <tr>\n",
       "      <th>38</th>\n",
       "      <td>WA</td>\n",
       "      <td>21112.0</td>\n",
       "      <td>511930.666667</td>\n",
       "    </tr>\n",
       "  </tbody>\n",
       "</table>\n",
       "</div>"
      ],
      "text/plain": [
       "   state     Count           2017\n",
       "3     CA  134278.0  587259.666667\n",
       "27    NY   89503.0  243951.000000\n",
       "7     FL   32190.0  301367.333333\n",
       "35    TX   23548.0  282727.791667\n",
       "38    WA   21112.0  511930.666667"
      ]
     },
     "execution_count": 23,
     "metadata": {},
     "output_type": "execute_result"
    }
   ],
   "source": [
    "merged_df1 = pd.merge(hmls_2017_final_df, sfh_price_renamed, on= \"State\", how= \"inner\")\n",
    "merged_df1.head()\n",
    "merged_df1= merged_df1.rename(columns={\n",
    "    \"Total Homeless, 2017\": \"Count\", \n",
    "    \"State\": \"state\", \n",
    "  })\n",
    "merged_df1.head()\n",
    "merged_df1.sort_values(by=\"Count\", ascending=False).head()"
   ]
  },
  {
   "cell_type": "code",
   "execution_count": 26,
   "metadata": {},
   "outputs": [
    {
     "name": "stdout",
     "output_type": "stream",
     "text": [
      "The correlation between homelessness and the average housing price is 0.33\n"
     ]
    },
    {
     "data": {
      "image/png": "[encoded data removed]",
      "text/plain": [
       "<Figure size 432x288 with 1 Axes>"
      ]
     },
     "metadata": {
      "needs_background": "dark"
     },
     "output_type": "display_data"
    }
   ],
   "source": [
    "corr=round(st.pearsonr(merged_df1['Count'],merged_df1['2017'])[0],2)\n",
    "print(f\"The correlation between homelessness and the average housing price is {corr}\")\n",
    "(slope, intercept, rvalue, pvalue, stderr) = st.linregress(merged_df1['Count'],merged_df1['2017'])\n",
    "y_values = merged_df1['Count']*slope+intercept\n",
    "plt.scatter(merged_df1['Count'], merged_df1['2017'],edgecolor=\"black\", linewidths=1, marker=\"o\", \n",
    "            alpha=0.8)\n",
    "plt.plot(merged_df1['Count'],y_values,color=\"red\")\n",
    "plt.title(\"Scatter\")\n",
    "plt.xlabel('Homelessness Count')\n",
    "plt.ylabel('Housing Price (2017)', fontdict={\"fontsize\": 10} )\n",
    "#plt.gca().update(dict(title='SCATTER', xlabel='Count', ylabel='Housing Price($)', ylim=(0,10)))\n",
    "\n",
    "plt.tight_layout()\n",
    "plt.savefig(\"Image_zha/cor4.png\")\n",
    "plt.show()"
   ]
  },
  {
   "cell_type": "code",
   "execution_count": 25,
   "metadata": {},
   "outputs": [],
   "source": [
    "data = dict(type='choropleth',\n",
    "            colorscale = 'Jet',\n",
    "            reversescale = True,\n",
    "            locations = merged_df1['state'],\n",
    "            z = merged_df1['Count'],\n",
    "            locationmode = 'USA-states',\n",
    "            text = merged_df1['state'],\n",
    "            marker = dict(line = dict(color = 'rgb(255,255,255)',width = 1)),\n",
    "            colorbar = {'title':'Total Homelessness Count For U.S.'}\n",
    "            ) \n",
    "\n",
    "layout = dict(title = 'Total Homeless Population Count In 2017 For U.S.',\n",
    "              geo = dict(scope='usa',\n",
    "                         showlakes = True,\n",
    "                         lakecolor = 'rgb(85,173,240)')\n",
    "             )"
   ]
  },
  {
   "cell_type": "code",
   "execution_count": 27,
   "metadata": {
    "scrolled": true
   },
   "outputs": [
    {
     "data": {
      "application/vnd.plotly.v1+json": {
       "config": {
        "linkText": "Export to plot.ly",
        "plotlyServerURL": "https://plot.ly",
        "showLink": false
       },
       "data": [
        {
         "colorbar": {
          "title": {
           "text": "Total Homelessness Count For U.S."
          }
         },
         "colorscale": [
          [
           0,
           "rgb(0,0,131)"
          ],
          [
           0.2,
           "rgb(0,60,170)"
          ],
          [
           0.4,
           "rgb(5,255,255)"
          ],
          [
           0.6,
           "rgb(255,255,0)"
          ],
          [
           0.8,
           "rgb(250,0,0)"
          ],
          [
           1,
           "rgb(128,0,0)"
          ]
         ],
         "locationmode": "USA-states",
         "locations": [
          "AL",
          "AR",
          "AZ",
          "CA",
          "CO",
          "CT",
          "DC",
          "FL",
          "GA",
          "HI",
          "IA",
          "ID",
          "IL",
          "IN",
          "KS",
          "KY",
          "LA",
          "MA",
          "MD",
          "MI",
          "MN",
          "MO",
          "MS",
          "NC",
          "NE",
          "NM",
          "NV",
          "NY",
          "OH",
          "OK",
          "OR",
          "PA",
          "RI",
          "SC",
          "TN",
          "TX",
          "UT",
          "VA",
          "WA",
          "WI"
         ],
         "marker": {
          "line": {
           "color": "rgb(255,255,255)",
           "width": 1
          }
         },
         "reversescale": true,
         "text": [
          "AL",
          "AR",
          "AZ",
          "CA",
          "CO",
          "CT",
          "DC",
          "FL",
          "GA",
          "HI",
          "IA",
          "ID",
          "IL",
          "IN",
          "KS",
          "KY",
          "LA",
          "MA",
          "MD",
          "MI",
          "MN",
          "MO",
          "MS",
          "NC",
          "NE",
          "NM",
          "NV",
          "NY",
          "OH",
          "OK",
          "OR",
          "PA",
          "RI",
          "SC",
          "TN",
          "TX",
          "UT",
          "VA",
          "WA",
          "WI"
         ],
         "type": "choropleth",
         "z": [
          3793,
          2467,
          8947,
          134278,
          10940,
          3388,
          7473,
          32190,
          10174,
          7220,
          2756,
          2037,
          10798,
          5438,
          2098,
          4025,
          3305,
          17565,
          7247,
          9051,
          7668,
          6226,
          1472,
          8962,
          2501,
          2482,
          7833,
          89503,
          10095,
          4199,
          13953,
          14138,
          1180,
          3916,
          8309,
          23548,
          2852,
          6067,
          21112,
          5027
         ]
        }
       ],
       "layout": {
        "geo": {
         "lakecolor": "rgb(85,173,240)",
         "scope": "usa",
         "showlakes": true
        },
        "template": {
         "data": {
          "bar": [
           {
            "error_x": {
             "color": "#2a3f5f"
            },
            "error_y": {
             "color": "#2a3f5f"
            },
            "marker": {
             "line": {
              "color": "#E5ECF6",
              "width": 0.5
             }
            },
            "type": "bar"
           }
          ],
          "barpolar": [
           {
            "marker": {
             "line": {
              "color": "#E5ECF6",
              "width": 0.5
             }
            },
            "type": "barpolar"
           }
          ],
          "carpet": [
           {
            "aaxis": {
             "endlinecolor": "#2a3f5f",
             "gridcolor": "white",
             "linecolor": "white",
             "minorgridcolor": "white",
             "startlinecolor": "#2a3f5f"
            },
            "baxis": {
             "endlinecolor": "#2a3f5f",
             "gridcolor": "white",
             "linecolor": "white",
             "minorgridcolor": "white",
             "startlinecolor": "#2a3f5f"
            },
            "type": "carpet"
           }
          ],
          "choropleth": [
           {
            "colorbar": {
             "outlinewidth": 0,
             "ticks": ""
            },
            "type": "choropleth"
           }
          ],
          "contour": [
           {
            "colorbar": {
             "outlinewidth": 0,
             "ticks": ""
            },
            "colorscale": [
             [
              0,
              "#0d0887"
             ],
             [
              0.1111111111111111,
              "#46039f"
             ],
             [
              0.2222222222222222,
              "#7201a8"
             ],
             [
              0.3333333333333333,
              "#9c179e"
             ],
             [
              0.4444444444444444,
              "#bd3786"
             ],
             [
              0.5555555555555556,
              "#d8576b"
             ],
             [
              0.6666666666666666,
              "#ed7953"
             ],
             [
              0.7777777777777778,
              "#fb9f3a"
             ],
             [
              0.8888888888888888,
              "#fdca26"
             ],
             [
              1,
              "#f0f921"
             ]
            ],
            "type": "contour"
           }
          ],
          "contourcarpet": [
           {
            "colorbar": {
             "outlinewidth": 0,
             "ticks": ""
            },
            "type": "contourcarpet"
           }
          ],
          "heatmap": [
           {
            "colorbar": {
             "outlinewidth": 0,
             "ticks": ""
            },
            "colorscale": [
             [
              0,
              "#0d0887"
             ],
             [
              0.1111111111111111,
              "#46039f"
             ],
             [
              0.2222222222222222,
              "#7201a8"
             ],
             [
              0.3333333333333333,
              "#9c179e"
             ],
             [
              0.4444444444444444,
              "#bd3786"
             ],
             [
              0.5555555555555556,
              "#d8576b"
             ],
             [
              0.6666666666666666,
              "#ed7953"
             ],
             [
              0.7777777777777778,
              "#fb9f3a"
             ],
             [
              0.8888888888888888,
              "#fdca26"
             ],
             [
              1,
              "#f0f921"
             ]
            ],
            "type": "heatmap"
           }
          ],
          "heatmapgl": [
           {
            "colorbar": {
             "outlinewidth": 0,
             "ticks": ""
            },
            "colorscale": [
             [
              0,
              "#0d0887"
             ],
             [
              0.1111111111111111,
              "#46039f"
             ],
             [
              0.2222222222222222,
              "#7201a8"
             ],
             [
              0.3333333333333333,
              "#9c179e"
             ],
             [
              0.4444444444444444,
              "#bd3786"
             ],
             [
              0.5555555555555556,
              "#d8576b"
             ],
             [
              0.6666666666666666,
              "#ed7953"
             ],
             [
              0.7777777777777778,
              "#fb9f3a"
             ],
             [
              0.8888888888888888,
              "#fdca26"
             ],
             [
              1,
              "#f0f921"
             ]
            ],
            "type": "heatmapgl"
           }
          ],
          "histogram": [
           {
            "marker": {
             "colorbar": {
              "outlinewidth": 0,
              "ticks": ""
             }
            },
            "type": "histogram"
           }
          ],
          "histogram2d": [
           {
            "colorbar": {
             "outlinewidth": 0,
             "ticks": ""
            },
            "colorscale": [
             [
              0,
              "#0d0887"
             ],
             [
              0.1111111111111111,
              "#46039f"
             ],
             [
              0.2222222222222222,
              "#7201a8"
             ],
             [
              0.3333333333333333,
              "#9c179e"
             ],
             [
              0.4444444444444444,
              "#bd3786"
             ],
             [
              0.5555555555555556,
              "#d8576b"
             ],
             [
              0.6666666666666666,
              "#ed7953"
             ],
             [
              0.7777777777777778,
              "#fb9f3a"
             ],
             [
              0.8888888888888888,
              "#fdca26"
             ],
             [
              1,
              "#f0f921"
             ]
            ],
            "type": "histogram2d"
           }
          ],
          "histogram2dcontour": [
           {
            "colorbar": {
             "outlinewidth": 0,
             "ticks": ""
            },
            "colorscale": [
             [
              0,
              "#0d0887"
             ],
             [
              0.1111111111111111,
              "#46039f"
             ],
             [
              0.2222222222222222,
              "#7201a8"
             ],
             [
              0.3333333333333333,
              "#9c179e"
             ],
             [
              0.4444444444444444,
              "#bd3786"
             ],
             [
              0.5555555555555556,
              "#d8576b"
             ],
             [
              0.6666666666666666,
              "#ed7953"
             ],
             [
              0.7777777777777778,
              "#fb9f3a"
             ],
             [
              0.8888888888888888,
              "#fdca26"
             ],
             [
              1,
              "#f0f921"
             ]
            ],
            "type": "histogram2dcontour"
           }
          ],
          "mesh3d": [
           {
            "colorbar": {
             "outlinewidth": 0,
             "ticks": ""
            },
            "type": "mesh3d"
           }
          ],
          "parcoords": [
           {
            "line": {
             "colorbar": {
              "outlinewidth": 0,
              "ticks": ""
             }
            },
            "type": "parcoords"
           }
          ],
          "pie": [
           {
            "automargin": true,
            "type": "pie"
           }
          ],
          "scatter": [
           {
            "marker": {
             "colorbar": {
              "outlinewidth": 0,
              "ticks": ""
             }
            },
            "type": "scatter"
           }
          ],
          "scatter3d": [
           {
            "line": {
             "colorbar": {
              "outlinewidth": 0,
              "ticks": ""
             }
            },
            "marker": {
             "colorbar": {
              "outlinewidth": 0,
              "ticks": ""
             }
            },
            "type": "scatter3d"
           }
          ],
          "scattercarpet": [
           {
            "marker": {
             "colorbar": {
              "outlinewidth": 0,
              "ticks": ""
             }
            },
            "type": "scattercarpet"
           }
          ],
          "scattergeo": [
           {
            "marker": {
             "colorbar": {
              "outlinewidth": 0,
              "ticks": ""
             }
            },
            "type": "scattergeo"
           }
          ],
          "scattergl": [
           {
            "marker": {
             "colorbar": {
              "outlinewidth": 0,
              "ticks": ""
             }
            },
            "type": "scattergl"
           }
          ],
          "scattermapbox": [
           {
            "marker": {
             "colorbar": {
              "outlinewidth": 0,
              "ticks": ""
             }
            },
            "type": "scattermapbox"
           }
          ],
          "scatterpolar": [
           {
            "marker": {
             "colorbar": {
              "outlinewidth": 0,
              "ticks": ""
             }
            },
            "type": "scatterpolar"
           }
          ],
          "scatterpolargl": [
           {
            "marker": {
             "colorbar": {
              "outlinewidth": 0,
              "ticks": ""
             }
            },
            "type": "scatterpolargl"
           }
          ],
          "scatterternary": [
           {
            "marker": {
             "colorbar": {
              "outlinewidth": 0,
              "ticks": ""
             }
            },
            "type": "scatterternary"
           }
          ],
          "surface": [
           {
            "colorbar": {
             "outlinewidth": 0,
             "ticks": ""
            },
            "colorscale": [
             [
              0,
              "#0d0887"
             ],
             [
              0.1111111111111111,
              "#46039f"
             ],
             [
              0.2222222222222222,
              "#7201a8"
             ],
             [
              0.3333333333333333,
              "#9c179e"
             ],
             [
              0.4444444444444444,
              "#bd3786"
             ],
             [
              0.5555555555555556,
              "#d8576b"
             ],
             [
              0.6666666666666666,
              "#ed7953"
             ],
             [
              0.7777777777777778,
              "#fb9f3a"
             ],
             [
              0.8888888888888888,
              "#fdca26"
             ],
             [
              1,
              "#f0f921"
             ]
            ],
            "type": "surface"
           }
          ],
          "table": [
           {
            "cells": {
             "fill": {
              "color": "#EBF0F8"
             },
             "line": {
              "color": "white"
             }
            },
            "header": {
             "fill": {
              "color": "#C8D4E3"
             },
             "line": {
              "color": "white"
             }
            },
            "type": "table"
           }
          ]
         },
         "layout": {
          "annotationdefaults": {
           "arrowcolor": "#2a3f5f",
           "arrowhead": 0,
           "arrowwidth": 1
          },
          "coloraxis": {
           "colorbar": {
            "outlinewidth": 0,
            "ticks": ""
           }
          },
          "colorscale": {
           "diverging": [
            [
             0,
             "#8e0152"
            ],
            [
             0.1,
             "#c51b7d"
            ],
            [
             0.2,
             "#de77ae"
            ],
            [
             0.3,
             "#f1b6da"
            ],
            [
             0.4,
             "#fde0ef"
            ],
            [
             0.5,
             "#f7f7f7"
            ],
            [
             0.6,
             "#e6f5d0"
            ],
            [
             0.7,
             "#b8e186"
            ],
            [
             0.8,
             "#7fbc41"
            ],
            [
             0.9,
             "#4d9221"
            ],
            [
             1,
             "#276419"
            ]
           ],
           "sequential": [
            [
             0,
             "#0d0887"
            ],
            [
             0.1111111111111111,
             "#46039f"
            ],
            [
             0.2222222222222222,
             "#7201a8"
            ],
            [
             0.3333333333333333,
             "#9c179e"
            ],
            [
             0.4444444444444444,
             "#bd3786"
            ],
            [
             0.5555555555555556,
             "#d8576b"
            ],
            [
             0.6666666666666666,
             "#ed7953"
            ],
            [
             0.7777777777777778,
             "#fb9f3a"
            ],
            [
             0.8888888888888888,
             "#fdca26"
            ],
            [
             1,
             "#f0f921"
            ]
           ],
           "sequentialminus": [
            [
             0,
             "#0d0887"
            ],
            [
             0.1111111111111111,
             "#46039f"
            ],
            [
             0.2222222222222222,
             "#7201a8"
            ],
            [
             0.3333333333333333,
             "#9c179e"
            ],
            [
             0.4444444444444444,
             "#bd3786"
            ],
            [
             0.5555555555555556,
             "#d8576b"
            ],
            [
             0.6666666666666666,
             "#ed7953"
            ],
            [
             0.7777777777777778,
             "#fb9f3a"
            ],
            [
             0.8888888888888888,
             "#fdca26"
            ],
            [
             1,
             "#f0f921"
            ]
           ]
          },
          "colorway": [
           "#636efa",
           "#EF553B",
           "#00cc96",
           "#ab63fa",
           "#FFA15A",
           "#19d3f3",
           "#FF6692",
           "#B6E880",
           "#FF97FF",
           "#FECB52"
          ],
          "font": {
           "color": "#2a3f5f"
          },
          "geo": {
           "bgcolor": "white",
           "lakecolor": "white",
           "landcolor": "#E5ECF6",
           "showlakes": true,
           "showland": true,
           "subunitcolor": "white"
          },
          "hoverlabel": {
           "align": "left"
          },
          "hovermode": "closest",
          "mapbox": {
           "style": "light"
          },
          "paper_bgcolor": "white",
          "plot_bgcolor": "#E5ECF6",
          "polar": {
           "angularaxis": {
            "gridcolor": "white",
            "linecolor": "white",
            "ticks": ""
           },
           "bgcolor": "#E5ECF6",
           "radialaxis": {
            "gridcolor": "white",
            "linecolor": "white",
            "ticks": ""
           }
          },
          "scene": {
           "xaxis": {
            "backgroundcolor": "#E5ECF6",
            "gridcolor": "white",
            "gridwidth": 2,
            "linecolor": "white",
            "showbackground": true,
            "ticks": "",
            "zerolinecolor": "white"
           },
           "yaxis": {
            "backgroundcolor": "#E5ECF6",
            "gridcolor": "white",
            "gridwidth": 2,
            "linecolor": "white",
            "showbackground": true,
            "ticks": "",
            "zerolinecolor": "white"
           },
           "zaxis": {
            "backgroundcolor": "#E5ECF6",
            "gridcolor": "white",
            "gridwidth": 2,
            "linecolor": "white",
            "showbackground": true,
            "ticks": "",
            "zerolinecolor": "white"
           }
          },
          "shapedefaults": {
           "line": {
            "color": "#2a3f5f"
           }
          },
          "ternary": {
           "aaxis": {
            "gridcolor": "white",
            "linecolor": "white",
            "ticks": ""
           },
           "baxis": {
            "gridcolor": "white",
            "linecolor": "white",
            "ticks": ""
           },
           "bgcolor": "#E5ECF6",
           "caxis": {
            "gridcolor": "white",
            "linecolor": "white",
            "ticks": ""
           }
          },
          "title": {
           "x": 0.05
          },
          "xaxis": {
           "automargin": true,
           "gridcolor": "white",
           "linecolor": "white",
           "ticks": "",
           "title": {
            "standoff": 15
           },
           "zerolinecolor": "white",
           "zerolinewidth": 2
          },
          "yaxis": {
           "automargin": true,
           "gridcolor": "white",
           "linecolor": "white",
           "ticks": "",
           "title": {
            "standoff": 15
           },
           "zerolinecolor": "white",
           "zerolinewidth": 2
          }
         }
        },
        "title": {
         "text": "Total Homeless Population Count In 2017 For U.S."
        }
       }
      },
      "text/html": [
       "<div>\n",
       "        \n",
       "        \n",
       "            <div id=\"ca954eb3-a1e8-41bd-b41a-0ed4016ab8ae\" class=\"plotly-graph-div\" style=\"height:525px; width:100%;\"></div>\n",
       "            <script type=\"text/javascript\">\n",
       "                require([\"plotly\"], function(Plotly) {\n",
       "                    window.PLOTLYENV=window.PLOTLYENV || {};\n",
       "                    \n",
       "                if (document.getElementById(\"ca954eb3-a1e8-41bd-b41a-0ed4016ab8ae\")) {\n",
       "                    Plotly.newPlot(\n",
       "                        'ca954eb3-a1e8-41bd-b41a-0ed4016ab8ae',\n",
       "                        [{\"colorbar\": {\"title\": {\"text\": \"Total Homelessness Count For U.S.\"}}, \"colorscale\": [[0.0, \"rgb(0,0,131)\"], [0.2, \"rgb(0,60,170)\"], [0.4, \"rgb(5,255,255)\"], [0.6, \"rgb(255,255,0)\"], [0.8, \"rgb(250,0,0)\"], [1.0, \"rgb(128,0,0)\"]], \"locationmode\": \"USA-states\", \"locations\": [\"AL\", \"AR\", \"AZ\", \"CA\", \"CO\", \"CT\", \"DC\", \"FL\", \"GA\", \"HI\", \"IA\", \"ID\", \"IL\", \"IN\", \"KS\", \"KY\", \"LA\", \"MA\", \"MD\", \"MI\", \"MN\", \"MO\", \"MS\", \"NC\", \"NE\", \"NM\", \"NV\", \"NY\", \"OH\", \"OK\", \"OR\", \"PA\", \"RI\", \"SC\", \"TN\", \"TX\", \"UT\", \"VA\", \"WA\", \"WI\"], \"marker\": {\"line\": {\"color\": \"rgb(255,255,255)\", \"width\": 1}}, \"reversescale\": true, \"text\": [\"AL\", \"AR\", \"AZ\", \"CA\", \"CO\", \"CT\", \"DC\", \"FL\", \"GA\", \"HI\", \"IA\", \"ID\", \"IL\", \"IN\", \"KS\", \"KY\", \"LA\", \"MA\", \"MD\", \"MI\", \"MN\", \"MO\", \"MS\", \"NC\", \"NE\", \"NM\", \"NV\", \"NY\", \"OH\", \"OK\", \"OR\", \"PA\", \"RI\", \"SC\", \"TN\", \"TX\", \"UT\", \"VA\", \"WA\", \"WI\"], \"type\": \"choropleth\", \"z\": [3793.0, 2467.0, 8947.0, 134278.0, 10940.0, 3388.0, 7473.0, 32190.0, 10174.0, 7220.0, 2756.0, 2037.0, 10798.0, 5438.0, 2098.0, 4025.0, 3305.0, 17565.0, 7247.0, 9051.0, 7668.0, 6226.0, 1472.0, 8962.0, 2501.0, 2482.0, 7833.0, 89503.0, 10095.0, 4199.0, 13953.0, 14138.0, 1180.0, 3916.0, 8309.0, 23548.0, 2852.0, 6067.0, 21112.0, 5027.0]}],\n",
       "                        {\"geo\": {\"lakecolor\": \"rgb(85,173,240)\", \"scope\": \"usa\", \"showlakes\": true}, \"template\": {\"data\": {\"bar\": [{\"error_x\": {\"color\": \"#2a3f5f\"}, \"error_y\": {\"color\": \"#2a3f5f\"}, \"marker\": {\"line\": {\"color\": \"#E5ECF6\", \"width\": 0.5}}, \"type\": \"bar\"}], \"barpolar\": [{\"marker\": {\"line\": {\"color\": \"#E5ECF6\", \"width\": 0.5}}, \"type\": \"barpolar\"}], \"carpet\": [{\"aaxis\": {\"endlinecolor\": \"#2a3f5f\", \"gridcolor\": \"white\", \"linecolor\": \"white\", \"minorgridcolor\": \"white\", \"startlinecolor\": \"#2a3f5f\"}, \"baxis\": {\"endlinecolor\": \"#2a3f5f\", \"gridcolor\": \"white\", \"linecolor\": \"white\", \"minorgridcolor\": \"white\", \"startlinecolor\": \"#2a3f5f\"}, \"type\": \"carpet\"}], \"choropleth\": [{\"colorbar\": {\"outlinewidth\": 0, \"ticks\": \"\"}, \"type\": \"choropleth\"}], \"contour\": [{\"colorbar\": {\"outlinewidth\": 0, \"ticks\": \"\"}, \"colorscale\": [[0.0, \"#0d0887\"], [0.1111111111111111, \"#46039f\"], [0.2222222222222222, \"#7201a8\"], [0.3333333333333333, \"#9c179e\"], [0.4444444444444444, \"#bd3786\"], [0.5555555555555556, \"#d8576b\"], [0.6666666666666666, \"#ed7953\"], [0.7777777777777778, \"#fb9f3a\"], [0.8888888888888888, \"#fdca26\"], [1.0, \"#f0f921\"]], \"type\": \"contour\"}], \"contourcarpet\": [{\"colorbar\": {\"outlinewidth\": 0, \"ticks\": \"\"}, \"type\": \"contourcarpet\"}], \"heatmap\": [{\"colorbar\": {\"outlinewidth\": 0, \"ticks\": \"\"}, \"colorscale\": [[0.0, \"#0d0887\"], [0.1111111111111111, \"#46039f\"], [0.2222222222222222, \"#7201a8\"], [0.3333333333333333, \"#9c179e\"], [0.4444444444444444, \"#bd3786\"], [0.5555555555555556, \"#d8576b\"], [0.6666666666666666, \"#ed7953\"], [0.7777777777777778, \"#fb9f3a\"], [0.8888888888888888, \"#fdca26\"], [1.0, \"#f0f921\"]], \"type\": \"heatmap\"}], \"heatmapgl\": [{\"colorbar\": {\"outlinewidth\": 0, \"ticks\": \"\"}, \"colorscale\": [[0.0, \"#0d0887\"], [0.1111111111111111, \"#46039f\"], [0.2222222222222222, \"#7201a8\"], [0.3333333333333333, \"#9c179e\"], [0.4444444444444444, \"#bd3786\"], [0.5555555555555556, \"#d8576b\"], [0.6666666666666666, \"#ed7953\"], [0.7777777777777778, \"#fb9f3a\"], [0.8888888888888888, \"#fdca26\"], [1.0, \"#f0f921\"]], \"type\": \"heatmapgl\"}], \"histogram\": [{\"marker\": {\"colorbar\": {\"outlinewidth\": 0, \"ticks\": \"\"}}, \"type\": \"histogram\"}], \"histogram2d\": [{\"colorbar\": {\"outlinewidth\": 0, \"ticks\": \"\"}, \"colorscale\": [[0.0, \"#0d0887\"], [0.1111111111111111, \"#46039f\"], [0.2222222222222222, \"#7201a8\"], [0.3333333333333333, \"#9c179e\"], [0.4444444444444444, \"#bd3786\"], [0.5555555555555556, \"#d8576b\"], [0.6666666666666666, \"#ed7953\"], [0.7777777777777778, \"#fb9f3a\"], [0.8888888888888888, \"#fdca26\"], [1.0, \"#f0f921\"]], \"type\": \"histogram2d\"}], \"histogram2dcontour\": [{\"colorbar\": {\"outlinewidth\": 0, \"ticks\": \"\"}, \"colorscale\": [[0.0, \"#0d0887\"], [0.1111111111111111, \"#46039f\"], [0.2222222222222222, \"#7201a8\"], [0.3333333333333333, \"#9c179e\"], [0.4444444444444444, \"#bd3786\"], [0.5555555555555556, \"#d8576b\"], [0.6666666666666666, \"#ed7953\"], [0.7777777777777778, \"#fb9f3a\"], [0.8888888888888888, \"#fdca26\"], [1.0, \"#f0f921\"]], \"type\": \"histogram2dcontour\"}], \"mesh3d\": [{\"colorbar\": {\"outlinewidth\": 0, \"ticks\": \"\"}, \"type\": \"mesh3d\"}], \"parcoords\": [{\"line\": {\"colorbar\": {\"outlinewidth\": 0, \"ticks\": \"\"}}, \"type\": \"parcoords\"}], \"pie\": [{\"automargin\": true, \"type\": \"pie\"}], \"scatter\": [{\"marker\": {\"colorbar\": {\"outlinewidth\": 0, \"ticks\": \"\"}}, \"type\": \"scatter\"}], \"scatter3d\": [{\"line\": {\"colorbar\": {\"outlinewidth\": 0, \"ticks\": \"\"}}, \"marker\": {\"colorbar\": {\"outlinewidth\": 0, \"ticks\": \"\"}}, \"type\": \"scatter3d\"}], \"scattercarpet\": [{\"marker\": {\"colorbar\": {\"outlinewidth\": 0, \"ticks\": \"\"}}, \"type\": \"scattercarpet\"}], \"scattergeo\": [{\"marker\": {\"colorbar\": {\"outlinewidth\": 0, \"ticks\": \"\"}}, \"type\": \"scattergeo\"}], \"scattergl\": [{\"marker\": {\"colorbar\": {\"outlinewidth\": 0, \"ticks\": \"\"}}, \"type\": \"scattergl\"}], \"scattermapbox\": [{\"marker\": {\"colorbar\": {\"outlinewidth\": 0, \"ticks\": \"\"}}, \"type\": \"scattermapbox\"}], \"scatterpolar\": [{\"marker\": {\"colorbar\": {\"outlinewidth\": 0, \"ticks\": \"\"}}, \"type\": \"scatterpolar\"}], \"scatterpolargl\": [{\"marker\": {\"colorbar\": {\"outlinewidth\": 0, \"ticks\": \"\"}}, \"type\": \"scatterpolargl\"}], \"scatterternary\": [{\"marker\": {\"colorbar\": {\"outlinewidth\": 0, \"ticks\": \"\"}}, \"type\": \"scatterternary\"}], \"surface\": [{\"colorbar\": {\"outlinewidth\": 0, \"ticks\": \"\"}, \"colorscale\": [[0.0, \"#0d0887\"], [0.1111111111111111, \"#46039f\"], [0.2222222222222222, \"#7201a8\"], [0.3333333333333333, \"#9c179e\"], [0.4444444444444444, \"#bd3786\"], [0.5555555555555556, \"#d8576b\"], [0.6666666666666666, \"#ed7953\"], [0.7777777777777778, \"#fb9f3a\"], [0.8888888888888888, \"#fdca26\"], [1.0, \"#f0f921\"]], \"type\": \"surface\"}], \"table\": [{\"cells\": {\"fill\": {\"color\": \"#EBF0F8\"}, \"line\": {\"color\": \"white\"}}, \"header\": {\"fill\": {\"color\": \"#C8D4E3\"}, \"line\": {\"color\": \"white\"}}, \"type\": \"table\"}]}, \"layout\": {\"annotationdefaults\": {\"arrowcolor\": \"#2a3f5f\", \"arrowhead\": 0, \"arrowwidth\": 1}, \"coloraxis\": {\"colorbar\": {\"outlinewidth\": 0, \"ticks\": \"\"}}, \"colorscale\": {\"diverging\": [[0, \"#8e0152\"], [0.1, \"#c51b7d\"], [0.2, \"#de77ae\"], [0.3, \"#f1b6da\"], [0.4, \"#fde0ef\"], [0.5, \"#f7f7f7\"], [0.6, \"#e6f5d0\"], [0.7, \"#b8e186\"], [0.8, \"#7fbc41\"], [0.9, \"#4d9221\"], [1, \"#276419\"]], \"sequential\": [[0.0, \"#0d0887\"], [0.1111111111111111, \"#46039f\"], [0.2222222222222222, \"#7201a8\"], [0.3333333333333333, \"#9c179e\"], [0.4444444444444444, \"#bd3786\"], [0.5555555555555556, \"#d8576b\"], [0.6666666666666666, \"#ed7953\"], [0.7777777777777778, \"#fb9f3a\"], [0.8888888888888888, \"#fdca26\"], [1.0, \"#f0f921\"]], \"sequentialminus\": [[0.0, \"#0d0887\"], [0.1111111111111111, \"#46039f\"], [0.2222222222222222, \"#7201a8\"], [0.3333333333333333, \"#9c179e\"], [0.4444444444444444, \"#bd3786\"], [0.5555555555555556, \"#d8576b\"], [0.6666666666666666, \"#ed7953\"], [0.7777777777777778, \"#fb9f3a\"], [0.8888888888888888, \"#fdca26\"], [1.0, \"#f0f921\"]]}, \"colorway\": [\"#636efa\", \"#EF553B\", \"#00cc96\", \"#ab63fa\", \"#FFA15A\", \"#19d3f3\", \"#FF6692\", \"#B6E880\", \"#FF97FF\", \"#FECB52\"], \"font\": {\"color\": \"#2a3f5f\"}, \"geo\": {\"bgcolor\": \"white\", \"lakecolor\": \"white\", \"landcolor\": \"#E5ECF6\", \"showlakes\": true, \"showland\": true, \"subunitcolor\": \"white\"}, \"hoverlabel\": {\"align\": \"left\"}, \"hovermode\": \"closest\", \"mapbox\": {\"style\": \"light\"}, \"paper_bgcolor\": \"white\", \"plot_bgcolor\": \"#E5ECF6\", \"polar\": {\"angularaxis\": {\"gridcolor\": \"white\", \"linecolor\": \"white\", \"ticks\": \"\"}, \"bgcolor\": \"#E5ECF6\", \"radialaxis\": {\"gridcolor\": \"white\", \"linecolor\": \"white\", \"ticks\": \"\"}}, \"scene\": {\"xaxis\": {\"backgroundcolor\": \"#E5ECF6\", \"gridcolor\": \"white\", \"gridwidth\": 2, \"linecolor\": \"white\", \"showbackground\": true, \"ticks\": \"\", \"zerolinecolor\": \"white\"}, \"yaxis\": {\"backgroundcolor\": \"#E5ECF6\", \"gridcolor\": \"white\", \"gridwidth\": 2, \"linecolor\": \"white\", \"showbackground\": true, \"ticks\": \"\", \"zerolinecolor\": \"white\"}, \"zaxis\": {\"backgroundcolor\": \"#E5ECF6\", \"gridcolor\": \"white\", \"gridwidth\": 2, \"linecolor\": \"white\", \"showbackground\": true, \"ticks\": \"\", \"zerolinecolor\": \"white\"}}, \"shapedefaults\": {\"line\": {\"color\": \"#2a3f5f\"}}, \"ternary\": {\"aaxis\": {\"gridcolor\": \"white\", \"linecolor\": \"white\", \"ticks\": \"\"}, \"baxis\": {\"gridcolor\": \"white\", \"linecolor\": \"white\", \"ticks\": \"\"}, \"bgcolor\": \"#E5ECF6\", \"caxis\": {\"gridcolor\": \"white\", \"linecolor\": \"white\", \"ticks\": \"\"}}, \"title\": {\"x\": 0.05}, \"xaxis\": {\"automargin\": true, \"gridcolor\": \"white\", \"linecolor\": \"white\", \"ticks\": \"\", \"title\": {\"standoff\": 15}, \"zerolinecolor\": \"white\", \"zerolinewidth\": 2}, \"yaxis\": {\"automargin\": true, \"gridcolor\": \"white\", \"linecolor\": \"white\", \"ticks\": \"\", \"title\": {\"standoff\": 15}, \"zerolinecolor\": \"white\", \"zerolinewidth\": 2}}}, \"title\": {\"text\": \"Total Homeless Population Count In 2017 For U.S.\"}},\n",
       "                        {\"responsive\": true}\n",
       "                    ).then(function(){\n",
       "                            \n",
       "var gd = document.getElementById('ca954eb3-a1e8-41bd-b41a-0ed4016ab8ae');\n",
       "var x = new MutationObserver(function (mutations, observer) {{\n",
       "        var display = window.getComputedStyle(gd).display;\n",
       "        if (!display || display === 'none') {{\n",
       "            console.log([gd, 'removed!']);\n",
       "            Plotly.purge(gd);\n",
       "            observer.disconnect();\n",
       "        }}\n",
       "}});\n",
       "\n",
       "// Listen for the removal of the full notebook cells\n",
       "var notebookContainer = gd.closest('#notebook-container');\n",
       "if (notebookContainer) {{\n",
       "    x.observe(notebookContainer, {childList: true});\n",
       "}}\n",
       "\n",
       "// Listen for the clearing of the current output cell\n",
       "var outputEl = gd.closest('.output');\n",
       "if (outputEl) {{\n",
       "    x.observe(outputEl, {childList: true});\n",
       "}}\n",
       "\n",
       "                        })\n",
       "                };\n",
       "                });\n",
       "            </script>\n",
       "        </div>"
      ]
     },
     "metadata": {},
     "output_type": "display_data"
    }
   ],
   "source": [
    "choromap = go.Figure(data = [data],layout = layout)\n",
    "iplot(choromap,validate=False)"
   ]
  },
  {
   "cell_type": "code",
   "execution_count": null,
   "metadata": {},
   "outputs": [],
   "source": []
  }
 ],
 "metadata": {
  "kernelspec": {
   "display_name": "Python [conda env:Anaconda3-Pythondata]",
   "language": "python",
   "name": "conda-env-Anaconda3-Pythondata-py"
  },
  "language_info": {
   "codemirror_mode": {
    "name": "ipython",
    "version": 3
   },
   "file_extension": ".py",
   "mimetype": "text/x-python",
   "name": "python",
   "nbconvert_exporter": "python",
   "pygments_lexer": "ipython3",
   "version": "3.6.9"
  }
 },
 "nbformat": 4,
 "nbformat_minor": 2
}
