{
 "cells": [
  {
   "cell_type": "code",
   "execution_count": null,
   "metadata": {},
   "outputs": [],
   "source": [
    "import pandas as pd\n",
    "import matplotlib.pyplot as plt\n",
    "import numpy as np"
   ]
  },
  {
   "cell_type": "code",
   "execution_count": 1,
   "metadata": {},
   "outputs": [
    {
     "data": {
      "text/html": [
       "<div>\n",
       "<style scoped>\n",
       "    .dataframe tbody tr th:only-of-type {\n",
       "        vertical-align: middle;\n",
       "    }\n",
       "\n",
       "    .dataframe tbody tr th {\n",
       "        vertical-align: top;\n",
       "    }\n",
       "\n",
       "    .dataframe thead th {\n",
       "        text-align: right;\n",
       "    }\n",
       "</style>\n",
       "<table border=\"1\" class=\"dataframe\">\n",
       "  <thead>\n",
       "    <tr style=\"text-align: right;\">\n",
       "      <th></th>\n",
       "      <th></th>\n",
       "      <th>Percentage</th>\n",
       "    </tr>\n",
       "    <tr>\n",
       "      <th>Substance</th>\n",
       "      <th>Dependence</th>\n",
       "      <th></th>\n",
       "    </tr>\n",
       "  </thead>\n",
       "  <tbody>\n",
       "    <tr>\n",
       "      <th rowspan=\"4\" valign=\"top\">Alcohol</th>\n",
       "      <th>No/Non-Veteran</th>\n",
       "      <td>98.437551</td>\n",
       "    </tr>\n",
       "    <tr>\n",
       "      <th>No/Veteran</th>\n",
       "      <td>98.143886</td>\n",
       "    </tr>\n",
       "    <tr>\n",
       "      <th>Yes/Non-Veteran</th>\n",
       "      <td>1.562449</td>\n",
       "    </tr>\n",
       "    <tr>\n",
       "      <th>Yes/Veteran</th>\n",
       "      <td>1.856114</td>\n",
       "    </tr>\n",
       "    <tr>\n",
       "      <th>Cocaine</th>\n",
       "      <th>No/Non-Veteran</th>\n",
       "      <td>99.923352</td>\n",
       "    </tr>\n",
       "  </tbody>\n",
       "</table>\n",
       "</div>"
      ],
      "text/plain": [
       "                           Percentage\n",
       "Substance Dependence                 \n",
       "Alcohol   No/Non-Veteran    98.437551\n",
       "          No/Veteran        98.143886\n",
       "          Yes/Non-Veteran    1.562449\n",
       "          Yes/Veteran        1.856114\n",
       "Cocaine   No/Non-Veteran    99.923352"
      ]
     },
     "execution_count": 1,
     "metadata": {},
     "output_type": "execute_result"
    }
   ],
   "source": [
    "##Data from SAMHDA - National Survey on Drug Use and Health, 2018\n",
    "\n",
    "substancecsv = pd.read_csv(\"Data/Veteran Data/veteransubstance.csv\", index_col=[1,0], skipinitialspace=True).drop(['Weighted Count'],axis=1)\n",
    "substancecsv['Percentage'] = substancecsv['Percentage'].multiply(100)\n",
    "substancecsv.head()"
   ]
  },
  {
   "cell_type": "code",
   "execution_count": 2,
   "metadata": {},
   "outputs": [
    {
     "data": {
      "text/html": [
       "<div>\n",
       "<style scoped>\n",
       "    .dataframe tbody tr th:only-of-type {\n",
       "        vertical-align: middle;\n",
       "    }\n",
       "\n",
       "    .dataframe tbody tr th {\n",
       "        vertical-align: top;\n",
       "    }\n",
       "\n",
       "    .dataframe thead th {\n",
       "        text-align: right;\n",
       "    }\n",
       "</style>\n",
       "<table border=\"1\" class=\"dataframe\">\n",
       "  <thead>\n",
       "    <tr style=\"text-align: right;\">\n",
       "      <th></th>\n",
       "      <th></th>\n",
       "      <th>Percentage</th>\n",
       "    </tr>\n",
       "    <tr>\n",
       "      <th>Substance</th>\n",
       "      <th>Dependence</th>\n",
       "      <th></th>\n",
       "    </tr>\n",
       "  </thead>\n",
       "  <tbody>\n",
       "    <tr>\n",
       "      <th rowspan=\"2\" valign=\"top\">Alcohol</th>\n",
       "      <th>Yes/Non-Veteran</th>\n",
       "      <td>1.562449</td>\n",
       "    </tr>\n",
       "    <tr>\n",
       "      <th>Yes/Veteran</th>\n",
       "      <td>1.856114</td>\n",
       "    </tr>\n",
       "    <tr>\n",
       "      <th rowspan=\"2\" valign=\"top\">Cocaine</th>\n",
       "      <th>Yes/Non-Veteran</th>\n",
       "      <td>0.076648</td>\n",
       "    </tr>\n",
       "    <tr>\n",
       "      <th>Yes/Veteran</th>\n",
       "      <td>0.037546</td>\n",
       "    </tr>\n",
       "    <tr>\n",
       "      <th>Heroin</th>\n",
       "      <th>Yes/Non-Veteran</th>\n",
       "      <td>0.000000</td>\n",
       "    </tr>\n",
       "  </tbody>\n",
       "</table>\n",
       "</div>"
      ],
      "text/plain": [
       "                           Percentage\n",
       "Substance Dependence                 \n",
       "Alcohol   Yes/Non-Veteran    1.562449\n",
       "          Yes/Veteran        1.856114\n",
       "Cocaine   Yes/Non-Veteran    0.076648\n",
       "          Yes/Veteran        0.037546\n",
       "Heroin    Yes/Non-Veteran    0.000000"
      ]
     },
     "execution_count": 2,
     "metadata": {},
     "output_type": "execute_result"
    }
   ],
   "source": [
    "# drop \"No\" answers\n",
    "substance2csv = pd.read_csv(\"Data/Veteran Data/veteransubstance.csv\", skipinitialspace=True).drop(['Weighted Count'],axis=1)\n",
    "substance2csv = substance2csv.drop(substance2csv.index[substance2csv['Dependence']=='No/Non-Veteran'])\n",
    "substance2csv = substance2csv.drop(substance2csv.index[substance2csv['Dependence']=='No/Veteran'])\n",
    "substance2csv = substance2csv.set_index(['Substance','Dependence'])\n",
    "substance2csv['Percentage'] = substance2csv['Percentage'].multiply(100)\n",
    "substance2csv.head()"
   ]
  },
  {
   "cell_type": "code",
   "execution_count": 3,
   "metadata": {},
   "outputs": [
    {
     "data": {
      "text/html": [
       "<div>\n",
       "<style scoped>\n",
       "    .dataframe tbody tr th:only-of-type {\n",
       "        vertical-align: middle;\n",
       "    }\n",
       "\n",
       "    .dataframe tbody tr th {\n",
       "        vertical-align: top;\n",
       "    }\n",
       "\n",
       "    .dataframe thead th {\n",
       "        text-align: right;\n",
       "    }\n",
       "</style>\n",
       "<table border=\"1\" class=\"dataframe\">\n",
       "  <thead>\n",
       "    <tr style=\"text-align: right;\">\n",
       "      <th></th>\n",
       "      <th>State</th>\n",
       "      <th>Overall Homeless</th>\n",
       "      <th>Homeless Veterans</th>\n",
       "      <th>Percentage</th>\n",
       "    </tr>\n",
       "  </thead>\n",
       "  <tbody>\n",
       "    <tr>\n",
       "      <th>0</th>\n",
       "      <td>AK</td>\n",
       "      <td>2016</td>\n",
       "      <td>132</td>\n",
       "      <td>6.145251</td>\n",
       "    </tr>\n",
       "    <tr>\n",
       "      <th>1</th>\n",
       "      <td>AL</td>\n",
       "      <td>3434</td>\n",
       "      <td>339</td>\n",
       "      <td>8.984893</td>\n",
       "    </tr>\n",
       "    <tr>\n",
       "      <th>2</th>\n",
       "      <td>AR</td>\n",
       "      <td>2712</td>\n",
       "      <td>251</td>\n",
       "      <td>8.471144</td>\n",
       "    </tr>\n",
       "    <tr>\n",
       "      <th>3</th>\n",
       "      <td>AZ</td>\n",
       "      <td>9865</td>\n",
       "      <td>893</td>\n",
       "      <td>8.300799</td>\n",
       "    </tr>\n",
       "    <tr>\n",
       "      <th>4</th>\n",
       "      <td>CA</td>\n",
       "      <td>129972</td>\n",
       "      <td>10836</td>\n",
       "      <td>7.695585</td>\n",
       "    </tr>\n",
       "  </tbody>\n",
       "</table>\n",
       "</div>"
      ],
      "text/plain": [
       "  State  Overall Homeless  Homeless Veterans  Percentage\n",
       "0    AK              2016                132    6.145251\n",
       "1    AL              3434                339    8.984893\n",
       "2    AR              2712                251    8.471144\n",
       "3    AZ              9865                893    8.300799\n",
       "4    CA            129972              10836    7.695585"
      ]
     },
     "execution_count": 3,
     "metadata": {},
     "output_type": "execute_result"
    }
   ],
   "source": [
    "##Data from HUD Exchange, removed all except \"Overall\" and \"Veterans\", added p\n",
    "\n",
    "vetcsv = pd.read_csv(\"Data/Veteran Data/2018-PIT-Counts Vets.csv\",skipinitialspace=True)\n",
    "vetcsv.head()"
   ]
  },
  {
   "cell_type": "code",
   "execution_count": 4,
   "metadata": {},
   "outputs": [
    {
     "data": {
      "image/png": "[encoded data removed]",
      "text/plain": [
       "<Figure size 432x288 with 1 Axes>"
      ]
     },
     "metadata": {
      "needs_background": "light"
     },
     "output_type": "display_data"
    }
   ],
   "source": [
    "##code from https://stackoverflow.com/questions/25386870/pandas-plotting-with-multi-index\n",
    "substancecsv.unstack(level=0).plot(kind='bar')\n",
    "\n",
    "plt.title('Dependence on Substances of the US Population in 2018')\n",
    "plt.legend(title=None,loc='center right')\n",
    "plt.tick_params(axis='x',labelrotation=0)\n",
    "plt.savefig(\"Images/Dependence on Substances All.png\",bbox_inches='tight')\n",
    "plt.show()"
   ]
  },
  {
   "cell_type": "code",
   "execution_count": 5,
   "metadata": {},
   "outputs": [
    {
     "data": {
      "image/png": "[encoded data removed]",
      "text/plain": [
       "<Figure size 432x288 with 1 Axes>"
      ]
     },
     "metadata": {
      "needs_background": "light"
     },
     "output_type": "display_data"
    }
   ],
   "source": [
    "substance2csv.unstack(level=0).plot(kind='bar')\n",
    "\n",
    "plt.legend(loc='center')\n",
    "plt.tick_params(axis='x',labelrotation=0)\n",
    "plt.title('Dependence on Substances of the US Population in 2018')\n",
    "plt.savefig(\"Images/Dependence on Substances Yes.png\",bbox_inches='tight')\n",
    "plt.show()"
   ]
  },
  {
   "cell_type": "code",
   "execution_count": 6,
   "metadata": {},
   "outputs": [
    {
     "data": {
      "image/png": "[encoded data removed]",
      "text/plain": [
       "<Figure size 720x360 with 1 Axes>"
      ]
     },
     "metadata": {
      "needs_background": "light"
     },
     "output_type": "display_data"
    }
   ],
   "source": [
    "states = vetcsv['State']\n",
    "homelessvets = vetcsv['Percentage']\n",
    "\n",
    "plt.figure(figsize=(10,5))\n",
    "plt.bar(x=states,height=homelessvets)\n",
    "plt.tick_params(axis='x',labelrotation=90)\n",
    "plt.title('Percentage of Homeless Vets in 2018')\n",
    "plt.savefig(\"Images/Homeless Vets.png\",bbox_inches='tight')\n",
    "plt.show()"
   ]
  },
  {
   "cell_type": "code",
   "execution_count": null,
   "metadata": {},
   "outputs": [],
   "source": []
  }
 ],
 "metadata": {
  "kernelspec": {
   "display_name": "Python 3",
   "language": "python",
   "name": "python3"
  },
  "language_info": {
   "codemirror_mode": {
    "name": "ipython",
    "version": 3
   },
   "file_extension": ".py",
   "mimetype": "text/x-python",
   "name": "python",
   "nbconvert_exporter": "python",
   "pygments_lexer": "ipython3",
   "version": "3.7.6"
  }
 },
 "nbformat": 4,
 "nbformat_minor": 4
}
